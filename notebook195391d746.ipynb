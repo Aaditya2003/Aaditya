{
 "cells": [
  {
   "cell_type": "code",
   "execution_count": 1,
   "id": "3525b423",
   "metadata": {
    "execution": {
     "iopub.execute_input": "2024-07-22T05:05:56.171994Z",
     "iopub.status.busy": "2024-07-22T05:05:56.171258Z",
     "iopub.status.idle": "2024-07-22T05:10:57.922842Z",
     "shell.execute_reply": "2024-07-22T05:10:57.921777Z"
    },
    "executionInfo": {
     "elapsed": 73029,
     "status": "ok",
     "timestamp": 1721582191549,
     "user": {
      "displayName": "Aaditya Garg",
      "userId": "02169321363610543926"
     },
     "user_tz": -330
    },
    "id": "0spgAKbtzJIX",
    "outputId": "38497575-e6d7-4eaa-ff83-5ad3a47ca78c",
    "papermill": {
     "duration": 301.766745,
     "end_time": "2024-07-22T05:10:57.925014",
     "exception": false,
     "start_time": "2024-07-22T05:05:56.158269",
     "status": "completed"
    },
    "tags": []
   },
   "outputs": [
    {
     "name": "stdout",
     "output_type": "stream",
     "text": [
      "--2024-07-22 05:05:57--  https://storage.googleapis.com/imposing-coyote-328710.appspot.com/trainingdata.zip\r\n",
      "Resolving storage.googleapis.com (storage.googleapis.com)... 142.250.125.207, 172.217.214.207, 74.125.126.207, ...\r\n",
      "Connecting to storage.googleapis.com (storage.googleapis.com)|142.250.125.207|:443... connected.\r\n",
      "HTTP request sent, awaiting response... 200 OK\r\n",
      "Length: 4155000401 (3.9G) [application/x-zip-compressed]\r\n",
      "Saving to: 'trainingdata.zip'\r\n",
      "\r\n",
      "trainingdata.zip    100%[===================>]   3.87G  13.0MB/s    in 4m 59s  \r\n",
      "\r\n",
      "2024-07-22 05:10:57 (13.3 MB/s) - 'trainingdata.zip' saved [4155000401/4155000401]\r\n",
      "\r\n"
     ]
    }
   ],
   "source": [
    "!wget https://storage.googleapis.com/imposing-coyote-328710.appspot.com/trainingdata.zip"
   ]
  },
  {
   "cell_type": "code",
   "execution_count": 2,
   "id": "081d2d72",
   "metadata": {
    "execution": {
     "iopub.execute_input": "2024-07-22T05:10:58.162267Z",
     "iopub.status.busy": "2024-07-22T05:10:58.161906Z",
     "iopub.status.idle": "2024-07-22T05:12:06.690074Z",
     "shell.execute_reply": "2024-07-22T05:12:06.688936Z"
    },
    "executionInfo": {
     "elapsed": 339541,
     "status": "ok",
     "timestamp": 1721582531085,
     "user": {
      "displayName": "Aaditya Garg",
      "userId": "02169321363610543926"
     },
     "user_tz": -330
    },
    "id": "aztyrk0XZmW5",
    "outputId": "9847cdda-c193-4680-df9e-f8763ea8eef7",
    "papermill": {
     "duration": 68.62789,
     "end_time": "2024-07-22T05:12:06.692441",
     "exception": false,
     "start_time": "2024-07-22T05:10:58.064551",
     "status": "completed"
    },
    "tags": []
   },
   "outputs": [
    {
     "name": "stdout",
     "output_type": "stream",
     "text": [
      "Archive:  trainingdata.zip\r\n",
      "   creating: content/trainingdata/data_16/\r\n",
      "   creating: content/trainingdata/data_16/train/\r\n",
      "  inflating: content/trainingdata/data_16/train/dataset_spec.pb  \r\n",
      "   creating: content/trainingdata/data_16/train/15938854272141767756/\r\n",
      "   creating: content/trainingdata/data_16/train/15938854272141767756/00000000.shard/\r\n",
      "  inflating: content/trainingdata/data_16/train/15938854272141767756/00000000.shard/00000000.snapshot  \r\n",
      " extracting: content/trainingdata/data_16/train/snapshot.metadata  \r\n",
      "   creating: content/trainingdata/data_16/test/\r\n",
      "  inflating: content/trainingdata/data_16/test/dataset_spec.pb  \r\n",
      "   creating: content/trainingdata/data_16/test/8136806561035047138/\r\n",
      "   creating: content/trainingdata/data_16/test/8136806561035047138/00000000.shard/\r\n",
      "  inflating: content/trainingdata/data_16/test/8136806561035047138/00000000.shard/00000000.snapshot  \r\n",
      " extracting: content/trainingdata/data_16/test/snapshot.metadata  \r\n",
      "   creating: content/trainingdata/data_16/val/\r\n",
      "   creating: content/trainingdata/data_16/val/16373577705258115994/\r\n",
      "   creating: content/trainingdata/data_16/val/16373577705258115994/00000000.shard/\r\n",
      "  inflating: content/trainingdata/data_16/val/16373577705258115994/00000000.shard/00000000.snapshot  \r\n",
      "  inflating: content/trainingdata/data_16/val/dataset_spec.pb  \r\n",
      " extracting: content/trainingdata/data_16/val/snapshot.metadata  \r\n"
     ]
    }
   ],
   "source": [
    "!unzip trainingdata.zip 'content/trainingdata/data_16/*'"
   ]
  },
  {
   "cell_type": "code",
   "execution_count": 3,
   "id": "3ea1d937",
   "metadata": {
    "execution": {
     "iopub.execute_input": "2024-07-22T05:12:06.895179Z",
     "iopub.status.busy": "2024-07-22T05:12:06.894825Z",
     "iopub.status.idle": "2024-07-22T05:12:22.401302Z",
     "shell.execute_reply": "2024-07-22T05:12:22.400313Z"
    },
    "papermill": {
     "duration": 15.613195,
     "end_time": "2024-07-22T05:12:22.403483",
     "exception": false,
     "start_time": "2024-07-22T05:12:06.790288",
     "status": "completed"
    },
    "tags": []
   },
   "outputs": [
    {
     "name": "stdout",
     "output_type": "stream",
     "text": [
      "Name: tensorflow\r\n",
      "Version: 2.15.0\r\n",
      "Summary: TensorFlow is an open source machine learning framework for everyone.\r\n",
      "Home-page: https://www.tensorflow.org/\r\n",
      "Author: Google Inc.\r\n",
      "Author-email: packages@tensorflow.org\r\n",
      "License: Apache 2.0\r\n",
      "Location: /opt/conda/lib/python3.10/site-packages\r\n",
      "Requires: absl-py, astunparse, flatbuffers, gast, google-pasta, grpcio, h5py, keras, libclang, ml-dtypes, numpy, opt-einsum, packaging, protobuf, setuptools, six, tensorboard, tensorflow-estimator, tensorflow-io-gcs-filesystem, termcolor, typing-extensions, wrapt\r\n",
      "Required-by: explainable-ai-sdk, tensorflow-cloud, tensorflow-decision-forests, tensorflow-serving-api, tensorflow-text, tf_keras, witwidget\r\n"
     ]
    }
   ],
   "source": [
    "!pip show tensorflow"
   ]
  },
  {
   "cell_type": "code",
   "execution_count": 4,
   "id": "ef7fb962",
   "metadata": {
    "execution": {
     "iopub.execute_input": "2024-07-22T05:12:22.599967Z",
     "iopub.status.busy": "2024-07-22T05:12:22.599614Z",
     "iopub.status.idle": "2024-07-22T05:12:44.089148Z",
     "shell.execute_reply": "2024-07-22T05:12:44.088008Z"
    },
    "executionInfo": {
     "elapsed": 8782,
     "status": "ok",
     "timestamp": 1721582539864,
     "user": {
      "displayName": "Aaditya Garg",
      "userId": "02169321363610543926"
     },
     "user_tz": -330
    },
    "id": "dSapAXgNHOpe",
    "outputId": "6b31a948-22e7-4817-9c31-a731bd1f4762",
    "papermill": {
     "duration": 21.590339,
     "end_time": "2024-07-22T05:12:44.091303",
     "exception": false,
     "start_time": "2024-07-22T05:12:22.500964",
     "status": "completed"
    },
    "tags": []
   },
   "outputs": [
    {
     "name": "stderr",
     "output_type": "stream",
     "text": [
      "2024-07-22 05:12:26.356760: E external/local_xla/xla/stream_executor/cuda/cuda_dnn.cc:9261] Unable to register cuDNN factory: Attempting to register factory for plugin cuDNN when one has already been registered\n",
      "2024-07-22 05:12:26.356870: E external/local_xla/xla/stream_executor/cuda/cuda_fft.cc:607] Unable to register cuFFT factory: Attempting to register factory for plugin cuFFT when one has already been registered\n",
      "2024-07-22 05:12:26.611657: E external/local_xla/xla/stream_executor/cuda/cuda_blas.cc:1515] Unable to register cuBLAS factory: Attempting to register factory for plugin cuBLAS when one has already been registered\n"
     ]
    },
    {
     "name": "stdout",
     "output_type": "stream",
     "text": [
      "Num GPUs Available:  2\n"
     ]
    }
   ],
   "source": [
    "import tensorflow as tf\n",
    "print(\"Num GPUs Available: \", len(tf.config.list_physical_devices('GPU')))"
   ]
  },
  {
   "cell_type": "code",
   "execution_count": 5,
   "id": "0ff43160",
   "metadata": {
    "execution": {
     "iopub.execute_input": "2024-07-22T05:12:44.289969Z",
     "iopub.status.busy": "2024-07-22T05:12:44.289055Z",
     "iopub.status.idle": "2024-07-22T05:12:58.090191Z",
     "shell.execute_reply": "2024-07-22T05:12:58.089056Z"
    },
    "executionInfo": {
     "elapsed": 5977,
     "status": "ok",
     "timestamp": 1721582545838,
     "user": {
      "displayName": "Aaditya Garg",
      "userId": "02169321363610543926"
     },
     "user_tz": -330
    },
    "id": "KEbL4Mwi01PV",
    "outputId": "b1ef15ec-2a14-43d9-be5f-1bcd572ab2a9",
    "papermill": {
     "duration": 13.902031,
     "end_time": "2024-07-22T05:12:58.092619",
     "exception": false,
     "start_time": "2024-07-22T05:12:44.190588",
     "status": "completed"
    },
    "tags": []
   },
   "outputs": [
    {
     "name": "stderr",
     "output_type": "stream",
     "text": [
      "/opt/conda/lib/python3.10/pty.py:89: RuntimeWarning: os.fork() was called. os.fork() is incompatible with multithreaded code, and JAX is multithreaded, so this will likely lead to a deadlock.\n",
      "  pid, fd = os.forkpty()\n"
     ]
    },
    {
     "name": "stdout",
     "output_type": "stream",
     "text": [
      "Collecting remotezip\r\n",
      "  Downloading remotezip-0.12.3-py3-none-any.whl.metadata (7.2 kB)\r\n",
      "Requirement already satisfied: tqdm in /opt/conda/lib/python3.10/site-packages (4.66.4)\r\n",
      "Requirement already satisfied: opencv-python in /opt/conda/lib/python3.10/site-packages (4.10.0.84)\r\n",
      "Collecting einops\r\n",
      "  Downloading einops-0.8.0-py3-none-any.whl.metadata (12 kB)\r\n",
      "Requirement already satisfied: requests in /opt/conda/lib/python3.10/site-packages (from remotezip) (2.32.3)\r\n",
      "Requirement already satisfied: numpy>=1.21.2 in /opt/conda/lib/python3.10/site-packages (from opencv-python) (1.26.4)\r\n",
      "Requirement already satisfied: charset-normalizer<4,>=2 in /opt/conda/lib/python3.10/site-packages (from requests->remotezip) (3.3.2)\r\n",
      "Requirement already satisfied: idna<4,>=2.5 in /opt/conda/lib/python3.10/site-packages (from requests->remotezip) (3.6)\r\n",
      "Requirement already satisfied: urllib3<3,>=1.21.1 in /opt/conda/lib/python3.10/site-packages (from requests->remotezip) (1.26.18)\r\n",
      "Requirement already satisfied: certifi>=2017.4.17 in /opt/conda/lib/python3.10/site-packages (from requests->remotezip) (2024.7.4)\r\n",
      "Downloading remotezip-0.12.3-py3-none-any.whl (8.1 kB)\r\n",
      "Downloading einops-0.8.0-py3-none-any.whl (43 kB)\r\n",
      "\u001b[2K   \u001b[90m━━━━━━━━━━━━━━━━━━━━━━━━━━━━━━━━━━━━━━━━\u001b[0m \u001b[32m43.2/43.2 kB\u001b[0m \u001b[31m648.0 kB/s\u001b[0m eta \u001b[36m0:00:00\u001b[0m\r\n",
      "\u001b[?25hInstalling collected packages: einops, remotezip\r\n",
      "Successfully installed einops-0.8.0 remotezip-0.12.3\r\n"
     ]
    }
   ],
   "source": [
    "!pip install remotezip tqdm opencv-python einops\n",
    "# Install TensorFlow 2.10\n",
    "#!pip install tensorflow==2.10.0"
   ]
  },
  {
   "cell_type": "code",
   "execution_count": 6,
   "id": "05d64687",
   "metadata": {
    "execution": {
     "iopub.execute_input": "2024-07-22T05:12:58.294604Z",
     "iopub.status.busy": "2024-07-22T05:12:58.294224Z",
     "iopub.status.idle": "2024-07-22T05:13:10.584932Z",
     "shell.execute_reply": "2024-07-22T05:13:10.583956Z"
    },
    "executionInfo": {
     "elapsed": 11164,
     "status": "ok",
     "timestamp": 1721582556997,
     "user": {
      "displayName": "Aaditya Garg",
      "userId": "02169321363610543926"
     },
     "user_tz": -330
    },
    "id": "ZUgJ733nCboB",
    "outputId": "feecd97f-9cef-48fa-ca83-e8615cafc30b",
    "papermill": {
     "duration": 12.394876,
     "end_time": "2024-07-22T05:13:10.587449",
     "exception": false,
     "start_time": "2024-07-22T05:12:58.192573",
     "status": "completed"
    },
    "tags": []
   },
   "outputs": [
    {
     "name": "stdout",
     "output_type": "stream",
     "text": [
      "Requirement already satisfied: tqdm in /opt/conda/lib/python3.10/site-packages (4.66.4)\r\n"
     ]
    }
   ],
   "source": [
    "!pip install -U tqdm"
   ]
  },
  {
   "cell_type": "code",
   "execution_count": 7,
   "id": "21f3dd3b",
   "metadata": {
    "execution": {
     "iopub.execute_input": "2024-07-22T05:13:10.788486Z",
     "iopub.status.busy": "2024-07-22T05:13:10.788123Z",
     "iopub.status.idle": "2024-07-22T05:13:12.842293Z",
     "shell.execute_reply": "2024-07-22T05:13:12.841518Z"
    },
    "executionInfo": {
     "elapsed": 10140,
     "status": "ok",
     "timestamp": 1721583501820,
     "user": {
      "displayName": "Aaditya Garg",
      "userId": "02169321363610543926"
     },
     "user_tz": -330
    },
    "id": "gg0otuqb0hIf",
    "papermill": {
     "duration": 2.156941,
     "end_time": "2024-07-22T05:13:12.844714",
     "exception": false,
     "start_time": "2024-07-22T05:13:10.687773",
     "status": "completed"
    },
    "tags": []
   },
   "outputs": [],
   "source": [
    "import tqdm\n",
    "import random\n",
    "import pathlib\n",
    "import itertools\n",
    "import collections\n",
    "\n",
    "import cv2\n",
    "import einops\n",
    "import numpy as np\n",
    "import remotezip as rz\n",
    "import seaborn as sns\n",
    "import matplotlib.pyplot as plt\n",
    "\n",
    "import tensorflow as tf\n",
    "import keras\n",
    "from keras import layers\n",
    "from tensorflow.keras.layers import Dropout"
   ]
  },
  {
   "cell_type": "markdown",
   "id": "3f2b9711",
   "metadata": {
    "id": "Ctk9A57-6ABq",
    "papermill": {
     "duration": 0.102102,
     "end_time": "2024-07-22T05:13:13.049172",
     "exception": false,
     "start_time": "2024-07-22T05:13:12.947070",
     "status": "completed"
    },
    "tags": []
   },
   "source": [
    "## Load and preprocess video data\n",
    "\n",
    "The hidden cell below defines helper functions to download a slice of data from the UCF-101 dataset, and load it into a `tf.data.Dataset`. You can learn more about the specific preprocessing steps in the [Loading video data tutorial](../load_data/video.ipynb), which walks you through this code in more detail.\n",
    "\n",
    "The `FrameGenerator` class at the end of the hidden block is the most important utility here. It creates an iterable object that can feed data into the TensorFlow data pipeline. Specifically, this class contains a Python generator that loads the video frames along with its encoded label. The generator (`__call__`) function yields the frame array produced by `frames_from_video_file` and a one-hot encoded vector of the label associated with the set of frames."
   ]
  },
  {
   "cell_type": "code",
   "execution_count": 8,
   "id": "3911422b",
   "metadata": {
    "execution": {
     "iopub.execute_input": "2024-07-22T05:13:13.248445Z",
     "iopub.status.busy": "2024-07-22T05:13:13.248068Z",
     "iopub.status.idle": "2024-07-22T05:13:13.275596Z",
     "shell.execute_reply": "2024-07-22T05:13:13.274677Z"
    },
    "executionInfo": {
     "elapsed": 2,
     "status": "ok",
     "timestamp": 1721583501820,
     "user": {
      "displayName": "Aaditya Garg",
      "userId": "02169321363610543926"
     },
     "user_tz": -330
    },
    "id": "nB2aOTU35r9_",
    "papermill": {
     "duration": 0.128916,
     "end_time": "2024-07-22T05:13:13.277409",
     "exception": false,
     "start_time": "2024-07-22T05:13:13.148493",
     "status": "completed"
    },
    "tags": []
   },
   "outputs": [],
   "source": [
    "#@title\n",
    "\n",
    "def list_files_per_class(zip_url):\n",
    "  \"\"\"\n",
    "    List the files in each class of the dataset given the zip URL.\n",
    "\n",
    "    Args:\n",
    "      zip_url: URL from which the files can be unzipped.\n",
    "\n",
    "    Return:\n",
    "      files: List of files in each of the classes.\n",
    "  \"\"\"\n",
    "  files = []\n",
    "  with rz.RemoteZip(URL) as zip:\n",
    "    for zip_info in zip.infolist():\n",
    "      files.append(zip_info.filename)\n",
    "  return files\n",
    "\n",
    "def get_class(fname):\n",
    "  \"\"\"\n",
    "    Retrieve the name of the class given a filename.\n",
    "\n",
    "    Args:\n",
    "      fname: Name of the file in the UCF101 dataset.\n",
    "\n",
    "    Return:\n",
    "      Class that the file belongs to.\n",
    "  \"\"\"\n",
    "  return fname.split('_')[-3]\n",
    "\n",
    "def get_files_per_class(files):\n",
    "  \"\"\"\n",
    "    Retrieve the files that belong to each class.\n",
    "\n",
    "    Args:\n",
    "      files: List of files in the dataset.\n",
    "\n",
    "    Return:\n",
    "      Dictionary of class names (key) and files (values).\n",
    "  \"\"\"\n",
    "  files_for_class = collections.defaultdict(list)\n",
    "  for fname in files:\n",
    "    class_name = get_class(fname)\n",
    "    files_for_class[class_name].append(fname)\n",
    "  return files_for_class\n",
    "\n",
    "def download_from_zip(zip_url, to_dir, file_names):\n",
    "  \"\"\"\n",
    "    Download the contents of the zip file from the zip URL.\n",
    "\n",
    "    Args:\n",
    "      zip_url: Zip URL containing data.\n",
    "      to_dir: Directory to download data to.\n",
    "      file_names: Names of files to download.\n",
    "  \"\"\"\n",
    "  with rz.RemoteZip(zip_url) as zip:\n",
    "    for fn in tqdm.tqdm(file_names):\n",
    "      class_name = get_class(fn)\n",
    "      zip.extract(fn, str(to_dir / class_name))\n",
    "      unzipped_file = to_dir / class_name / fn\n",
    "\n",
    "      fn = pathlib.Path(fn).parts[-1]\n",
    "      output_file = to_dir / class_name / fn\n",
    "      unzipped_file.rename(output_file,)\n",
    "\n",
    "def split_class_lists(files_for_class, count):\n",
    "  \"\"\"\n",
    "    Returns the list of files belonging to a subset of data as well as the remainder of\n",
    "    files that need to be downloaded.\n",
    "\n",
    "    Args:\n",
    "      files_for_class: Files belonging to a particular class of data.\n",
    "      count: Number of files to download.\n",
    "\n",
    "    Return:\n",
    "      split_files: Files belonging to the subset of data.\n",
    "      remainder: Dictionary of the remainder of files that need to be downloaded.\n",
    "  \"\"\"\n",
    "  split_files = []\n",
    "  remainder = {}\n",
    "  for cls in files_for_class:\n",
    "    split_files.extend(files_for_class[cls][:count])\n",
    "    remainder[cls] = files_for_class[cls][count:]\n",
    "  return split_files, remainder\n",
    "\n",
    "def download_ufc_101_subset(zip_url, num_classes, splits, download_dir):\n",
    "  \"\"\"\n",
    "    Download a subset of the UFC101 dataset and split them into various parts, such as\n",
    "    training, validation, and test.\n",
    "\n",
    "    Args:\n",
    "      zip_url: Zip URL containing data.\n",
    "      num_classes: Number of labels.\n",
    "      splits: Dictionary specifying the training, validation, test, etc. (key) division of data\n",
    "              (value is number of files per split).\n",
    "      download_dir: Directory to download data to.\n",
    "\n",
    "    Return:\n",
    "      dir: Posix path of the resulting directories containing the splits of data.\n",
    "  \"\"\"\n",
    "  files = list_files_per_class(zip_url)\n",
    "  for f in files:\n",
    "    tokens = f.split('/')\n",
    "    if len(tokens) <= 2:\n",
    "      files.remove(f) # Remove that item from the list if it does not have a filename\n",
    "\n",
    "  files_for_class = get_files_per_class(files)\n",
    "\n",
    "  classes = list(files_for_class.keys())[:num_classes]\n",
    "\n",
    "  for cls in classes:\n",
    "    new_files_for_class = files_for_class[cls]\n",
    "    random.shuffle(new_files_for_class)\n",
    "    files_for_class[cls] = new_files_for_class\n",
    "\n",
    "  # Only use the number of classes you want in the dictionary\n",
    "  files_for_class = {x: files_for_class[x] for x in list(files_for_class)[:num_classes]}\n",
    "\n",
    "  dirs = {}\n",
    "  for split_name, split_count in splits.items():\n",
    "    print(split_name, \":\")\n",
    "    split_dir = download_dir / split_name\n",
    "    split_files, files_for_class = split_class_lists(files_for_class, split_count)\n",
    "    download_from_zip(zip_url, split_dir, split_files)\n",
    "    dirs[split_name] = split_dir\n",
    "\n",
    "  return dirs\n",
    "\n",
    "def format_frames(frame, output_size):\n",
    "  \"\"\"\n",
    "    Pad and resize an image from a video.\n",
    "\n",
    "    Args:\n",
    "      frame: Image that needs to resized and padded.\n",
    "      output_size: Pixel size of the output frame image.\n",
    "\n",
    "    Return:\n",
    "      Formatted frame with padding of specified output size.\n",
    "  \"\"\"\n",
    "  frame = tf.image.convert_image_dtype(frame, tf.float32)\n",
    "  frame = tf.image.resize_with_pad(frame, *output_size)\n",
    "  return frame\n",
    "\n",
    "def frames_from_video_file(video_path, n_frames, output_size = (224,224), frame_step = 15):\n",
    "  \"\"\"\n",
    "    Creates frames from each video file present for each category.\n",
    "\n",
    "    Args:\n",
    "      video_path: File path to the video.\n",
    "      n_frames: Number of frames to be created per video file.\n",
    "      output_size: Pixel size of the output frame image.\n",
    "\n",
    "    Return:\n",
    "      An NumPy array of frames in the shape of (n_frames, height, width, channels).\n",
    "  \"\"\"\n",
    "  # Read each video frame by frame\n",
    "  result = []\n",
    "  src = cv2.VideoCapture(str(video_path))\n",
    "\n",
    "  video_length = src.get(cv2.CAP_PROP_FRAME_COUNT)\n",
    "\n",
    "  need_length = 1 + (n_frames - 1) * frame_step\n",
    "\n",
    "  if need_length > video_length:\n",
    "    start = 0\n",
    "  else:\n",
    "    max_start = video_length - need_length\n",
    "    start = random.randint(0, max_start + 1)\n",
    "\n",
    "  src.set(cv2.CAP_PROP_POS_FRAMES, start)\n",
    "  # ret is a boolean indicating whether read was successful, frame is the image itself\n",
    "  ret, frame = src.read()\n",
    "  result.append(format_frames(frame, output_size))\n",
    "\n",
    "  for _ in range(n_frames - 1):\n",
    "    for _ in range(frame_step):\n",
    "      ret, frame = src.read()\n",
    "    if ret:\n",
    "      frame = format_frames(frame, output_size)\n",
    "      result.append(frame)\n",
    "    else:\n",
    "      result.append(np.zeros_like(result[0]))\n",
    "  src.release()\n",
    "  result = np.array(result)[..., [2, 1, 0]]\n",
    "\n",
    "  return result\n",
    "\n",
    "class FrameGenerator:\n",
    "  def __init__(self, path, n_frames, training = False):\n",
    "    \"\"\" Returns a set of frames with their associated label.\n",
    "\n",
    "      Args:\n",
    "        path: Video file paths.\n",
    "        n_frames: Number of frames.\n",
    "        training: Boolean to determine if training dataset is being created.\n",
    "    \"\"\"\n",
    "    self.path = path\n",
    "    self.n_frames = n_frames\n",
    "    self.training = training\n",
    "    self.class_names = sorted(set(p.name for p in self.path.iterdir() if p.is_dir()))\n",
    "    self.class_ids_for_name = dict((name, idx) for idx, name in enumerate(self.class_names))\n",
    "\n",
    "  def get_files_and_class_names(self):\n",
    "    video_paths = list(self.path.glob('*/*.avi'))\n",
    "    classes = [p.parent.name for p in video_paths]\n",
    "    return video_paths, classes\n",
    "\n",
    "  def __call__(self):\n",
    "    video_paths, classes = self.get_files_and_class_names()\n",
    "\n",
    "    pairs = list(zip(video_paths, classes))\n",
    "\n",
    "    if self.training:\n",
    "      random.shuffle(pairs)\n",
    "\n",
    "    for path, name in pairs:\n",
    "      video_frames = frames_from_video_file(path, self.n_frames)\n",
    "      label = self.class_ids_for_name[name] # Encode labels\n",
    "      yield video_frames, label"
   ]
  },
  {
   "cell_type": "code",
   "execution_count": 9,
   "id": "77cadb0f",
   "metadata": {
    "execution": {
     "iopub.execute_input": "2024-07-22T05:13:13.477523Z",
     "iopub.status.busy": "2024-07-22T05:13:13.477194Z",
     "iopub.status.idle": "2024-07-22T05:13:13.481066Z",
     "shell.execute_reply": "2024-07-22T05:13:13.480289Z"
    },
    "executionInfo": {
     "elapsed": 4,
     "status": "ok",
     "timestamp": 1721582557986,
     "user": {
      "displayName": "Aaditya Garg",
      "userId": "02169321363610543926"
     },
     "user_tz": -330
    },
    "id": "ly1XJjWh-0ZQ",
    "papermill": {
     "duration": 0.106725,
     "end_time": "2024-07-22T05:13:13.482974",
     "exception": false,
     "start_time": "2024-07-22T05:13:13.376249",
     "status": "completed"
    },
    "tags": []
   },
   "outputs": [],
   "source": [
    "# !rm -rf /content/MIME_subset"
   ]
  },
  {
   "cell_type": "markdown",
   "id": "cddd0481",
   "metadata": {
    "id": "C0O3ttIzpFZJ",
    "papermill": {
     "duration": 0.098505,
     "end_time": "2024-07-22T05:13:13.679309",
     "exception": false,
     "start_time": "2024-07-22T05:13:13.580804",
     "status": "completed"
    },
    "tags": []
   },
   "source": [
    "Create the training, validation, and test sets (`train_ds`, `val_ds`, and `test_ds`)."
   ]
  },
  {
   "cell_type": "code",
   "execution_count": 10,
   "id": "a7d78bd5",
   "metadata": {
    "execution": {
     "iopub.execute_input": "2024-07-22T05:13:13.882254Z",
     "iopub.status.busy": "2024-07-22T05:13:13.881550Z",
     "iopub.status.idle": "2024-07-22T05:13:14.517727Z",
     "shell.execute_reply": "2024-07-22T05:13:14.516950Z"
    },
    "executionInfo": {
     "elapsed": 926,
     "status": "ok",
     "timestamp": 1721583502745,
     "user": {
      "displayName": "Aaditya Garg",
      "userId": "02169321363610543926"
     },
     "user_tz": -330
    },
    "id": "i7rmZwQeSfWd",
    "papermill": {
     "duration": 0.738559,
     "end_time": "2024-07-22T05:13:14.520039",
     "exception": false,
     "start_time": "2024-07-22T05:13:13.781480",
     "status": "completed"
    },
    "tags": []
   },
   "outputs": [],
   "source": [
    "# Load the datasets\n",
    "path_train = \"/kaggle/working/content/trainingdata/data_16/train\"\n",
    "path_val = \"/kaggle/working/content/trainingdata/data_16/val\"\n",
    "path_test = \"/kaggle/working/content/trainingdata/data_16/test\"\n",
    "# train_ds = tf.data.Dataset.load(\n",
    "#     path_train\n",
    "# )\n",
    "\n",
    "# val_ds = tf.data.Dataset.load(\n",
    "# path_val\n",
    "# )\n",
    "\n",
    "# test_ds = tf.data.Dataset.load(\n",
    "#     path_test\n",
    "# )\n",
    "train_ds = tf.data.Dataset.load(path_train).cache()\n",
    "val_ds = tf.data.Dataset.load(path_val).cache()\n",
    "test_ds = tf.data.Dataset.load(path_test)\n",
    "\n",
    "# To see the effect of caching, you might want to prefetch the datasets\n",
    "train_ds = train_ds.prefetch(buffer_size=tf.data.AUTOTUNE)\n",
    "val_ds = val_ds.prefetch(buffer_size=tf.data.AUTOTUNE)\n",
    "# test_ds = test_ds.prefetch(buffer_size=tf.data.AUTOTUNE)\n"
   ]
  },
  {
   "cell_type": "code",
   "execution_count": 11,
   "id": "a0b5d617",
   "metadata": {
    "cellView": "form",
    "execution": {
     "iopub.execute_input": "2024-07-22T05:13:14.719265Z",
     "iopub.status.busy": "2024-07-22T05:13:14.718360Z",
     "iopub.status.idle": "2024-07-22T05:13:14.723347Z",
     "shell.execute_reply": "2024-07-22T05:13:14.722530Z"
    },
    "executionInfo": {
     "elapsed": 5,
     "status": "ok",
     "timestamp": 1721582558628,
     "user": {
      "displayName": "Aaditya Garg",
      "userId": "02169321363610543926"
     },
     "user_tz": -330
    },
    "id": "lq86IyGDJjTX",
    "papermill": {
     "duration": 0.106065,
     "end_time": "2024-07-22T05:13:14.725296",
     "exception": false,
     "start_time": "2024-07-22T05:13:14.619231",
     "status": "completed"
    },
    "tags": []
   },
   "outputs": [],
   "source": [
    "# n_frames = 10\n",
    "# batch_size = 8\n",
    "\n",
    "# output_signature = (tf.TensorSpec(shape = (None, None, None, 3), dtype = tf.float32),\n",
    "#                     tf.TensorSpec(shape = (), dtype = tf.int16))\n",
    "\n",
    "# train_ds = tf.data.Dataset.from_generator(FrameGenerator(subset_paths['train'], n_frames, training=True),\n",
    "#                                           output_signature = output_signature)\n",
    "\n",
    "\n",
    "# # Batch the data\n",
    "# train_ds = train_ds.batch(batch_size)\n",
    "\n",
    "# val_ds = tf.data.Dataset.from_generator(FrameGenerator(subset_paths['val'], n_frames),\n",
    "#                                         output_signature = output_signature)\n",
    "# val_ds = val_ds.batch(batch_size)\n",
    "\n",
    "# test_ds = tf.data.Dataset.from_generator(FrameGenerator(subset_paths['test'], n_frames),\n",
    "#                                          output_signature = output_signature)\n",
    "\n",
    "# test_ds = test_ds.batch(batch_size)"
   ]
  },
  {
   "cell_type": "code",
   "execution_count": 12,
   "id": "008103da",
   "metadata": {
    "execution": {
     "iopub.execute_input": "2024-07-22T05:13:14.928789Z",
     "iopub.status.busy": "2024-07-22T05:13:14.928112Z",
     "iopub.status.idle": "2024-07-22T05:13:14.932421Z",
     "shell.execute_reply": "2024-07-22T05:13:14.931568Z"
    },
    "executionInfo": {
     "elapsed": 5,
     "status": "ok",
     "timestamp": 1721582558629,
     "user": {
      "displayName": "Aaditya Garg",
      "userId": "02169321363610543926"
     },
     "user_tz": -330
    },
    "id": "X6nMoOHwwCyR",
    "papermill": {
     "duration": 0.108072,
     "end_time": "2024-07-22T05:13:14.934287",
     "exception": false,
     "start_time": "2024-07-22T05:13:14.826215",
     "status": "completed"
    },
    "tags": []
   },
   "outputs": [],
   "source": [
    "# import tensorflow as tf\n",
    "\n",
    "# # Assuming train_ds, val_ds, and test_ds are already defined and batched\n",
    "\n",
    "# # Define the directory to save the datasets\n",
    "# path_train = \"/content/trainingdata/data_16/train\"\n",
    "# path_val = \"/content/trainingdata/data_16/val\"\n",
    "# path_test = \"/content/trainingdata/data_16/test\"\n",
    "\n",
    "# # Save the datasets\n",
    "# tf.data.Dataset.save(train_ds,path_train )\n",
    "# tf.data.Dataset.save(val_ds,path_val)\n",
    "# tf.data.Dataset.save(test_ds,path_test)\n"
   ]
  },
  {
   "cell_type": "code",
   "execution_count": 13,
   "id": "9ab90c71",
   "metadata": {
    "execution": {
     "iopub.execute_input": "2024-07-22T05:13:15.134962Z",
     "iopub.status.busy": "2024-07-22T05:13:15.134060Z",
     "iopub.status.idle": "2024-07-22T05:13:15.138547Z",
     "shell.execute_reply": "2024-07-22T05:13:15.137658Z"
    },
    "executionInfo": {
     "elapsed": 923,
     "status": "ok",
     "timestamp": 1721583193807,
     "user": {
      "displayName": "Aaditya Garg",
      "userId": "02169321363610543926"
     },
     "user_tz": -330
    },
    "id": "GZcB_7dg-EZJ",
    "papermill": {
     "duration": 0.107168,
     "end_time": "2024-07-22T05:13:15.140538",
     "exception": false,
     "start_time": "2024-07-22T05:13:15.033370",
     "status": "completed"
    },
    "tags": []
   },
   "outputs": [],
   "source": [
    "# Define the dimensions of one frame in the set of frames created\n",
    "HEIGHT = 224\n",
    "WIDTH = 224"
   ]
  },
  {
   "cell_type": "code",
   "execution_count": 14,
   "id": "b5886b51",
   "metadata": {
    "execution": {
     "iopub.execute_input": "2024-07-22T05:13:15.345099Z",
     "iopub.status.busy": "2024-07-22T05:13:15.344169Z",
     "iopub.status.idle": "2024-07-22T05:13:15.353271Z",
     "shell.execute_reply": "2024-07-22T05:13:15.351399Z"
    },
    "executionInfo": {
     "elapsed": 3,
     "status": "ok",
     "timestamp": 1721583502746,
     "user": {
      "displayName": "Aaditya Garg",
      "userId": "02169321363610543926"
     },
     "user_tz": -330
    },
    "id": "yD_sDIBlNu7K",
    "papermill": {
     "duration": 0.114513,
     "end_time": "2024-07-22T05:13:15.355922",
     "exception": false,
     "start_time": "2024-07-22T05:13:15.241409",
     "status": "completed"
    },
    "tags": []
   },
   "outputs": [],
   "source": [
    "class Conv2Plus1D(keras.layers.Layer):\n",
    "  def __init__(self, filters, kernel_size, padding):\n",
    "    \"\"\"\n",
    "      A sequence of convolutional layers that first apply the convolution operation over the\n",
    "      spatial dimensions, and then the temporal dimension.\n",
    "    \"\"\"\n",
    "    super().__init__()\n",
    "    self.seq = keras.Sequential([\n",
    "        # Spatial decomposition\n",
    "        layers.Conv3D(filters=filters,\n",
    "                      kernel_size=(1, kernel_size[1], kernel_size[2]),\n",
    "                      padding=padding),\n",
    "        # Temporal decomposition\n",
    "        layers.Conv3D(filters=filters,\n",
    "                      kernel_size=(kernel_size[0], 1, 1),\n",
    "                      padding=padding)\n",
    "        ])\n",
    "\n",
    "  def call(self, x):\n",
    "    return self.seq(x)"
   ]
  },
  {
   "cell_type": "code",
   "execution_count": 15,
   "id": "242a5cfd",
   "metadata": {
    "execution": {
     "iopub.execute_input": "2024-07-22T05:13:15.566194Z",
     "iopub.status.busy": "2024-07-22T05:13:15.565450Z",
     "iopub.status.idle": "2024-07-22T05:13:15.570141Z",
     "shell.execute_reply": "2024-07-22T05:13:15.569290Z"
    },
    "executionInfo": {
     "elapsed": 4,
     "status": "ok",
     "timestamp": 1721582558629,
     "user": {
      "displayName": "Aaditya Garg",
      "userId": "02169321363610543926"
     },
     "user_tz": -330
    },
    "id": "Cen3w6tsMw8a",
    "papermill": {
     "duration": 0.106493,
     "end_time": "2024-07-22T05:13:15.571999",
     "exception": false,
     "start_time": "2024-07-22T05:13:15.465506",
     "status": "completed"
    },
    "tags": []
   },
   "outputs": [],
   "source": [
    "# class Conv2Plus1D(keras.layers.Layer):\n",
    "#   def __init__(self, filters, kernel_size, padding, kernel_regularizer=None): # Add kernel_regularizer here\n",
    "#     \"\"\"\n",
    "#       A sequence of convolutional layers that first apply the convolution operation over the\n",
    "#       spatial dimensions, and then the temporal dimension.\n",
    "#     \"\"\"\n",
    "#     super().__init__()\n",
    "#     self.seq = keras.Sequential([\n",
    "#         # Spatial decomposition\n",
    "#         layers.Conv3D(filters=filters,\n",
    "#                       kernel_size=(1, kernel_size[1], kernel_size[2]),\n",
    "#                       padding=padding,\n",
    "#                       kernel_regularizer=kernel_regularizer), # Apply regularizer if provided\n",
    "#         # Temporal decomposition\n",
    "#         layers.Conv3D(filters=filters,\n",
    "#                       kernel_size=(kernel_size[0], 1, 1),\n",
    "#                       padding=padding,\n",
    "#                       kernel_regularizer=kernel_regularizer) # Apply regularizer if provided\n",
    "#         ])\n",
    "\n",
    "#   def call(self, x):\n",
    "#     return self.seq(x)\n",
    "\n"
   ]
  },
  {
   "cell_type": "code",
   "execution_count": 16,
   "id": "ed93b15f",
   "metadata": {
    "execution": {
     "iopub.execute_input": "2024-07-22T05:13:15.774559Z",
     "iopub.status.busy": "2024-07-22T05:13:15.773921Z",
     "iopub.status.idle": "2024-07-22T05:13:15.781021Z",
     "shell.execute_reply": "2024-07-22T05:13:15.780086Z"
    },
    "executionInfo": {
     "elapsed": 3,
     "status": "ok",
     "timestamp": 1721583502746,
     "user": {
      "displayName": "Aaditya Garg",
      "userId": "02169321363610543926"
     },
     "user_tz": -330
    },
    "id": "tjxAKHwn6mTJ",
    "papermill": {
     "duration": 0.111056,
     "end_time": "2024-07-22T05:13:15.782920",
     "exception": false,
     "start_time": "2024-07-22T05:13:15.671864",
     "status": "completed"
    },
    "tags": []
   },
   "outputs": [],
   "source": [
    "class ResidualMain(keras.layers.Layer):\n",
    "  \"\"\"\n",
    "    Residual block of the model with convolution, layer normalization, and the\n",
    "    activation function, ReLU.\n",
    "  \"\"\"\n",
    "  def __init__(self, filters, kernel_size):\n",
    "    super().__init__()\n",
    "    self.seq = keras.Sequential([\n",
    "        Conv2Plus1D(filters=filters,\n",
    "                    kernel_size=kernel_size,\n",
    "                    padding='same'),\n",
    "        layers.LayerNormalization(),\n",
    "        layers.ReLU(),\n",
    "        Conv2Plus1D(filters=filters,\n",
    "                    kernel_size=kernel_size,\n",
    "                    padding='same'),\n",
    "        layers.LayerNormalization()\n",
    "    ])\n",
    "\n",
    "  def call(self, x):\n",
    "    return self.seq(x)"
   ]
  },
  {
   "cell_type": "code",
   "execution_count": 17,
   "id": "d691d251",
   "metadata": {
    "execution": {
     "iopub.execute_input": "2024-07-22T05:13:15.984726Z",
     "iopub.status.busy": "2024-07-22T05:13:15.984005Z",
     "iopub.status.idle": "2024-07-22T05:13:15.989534Z",
     "shell.execute_reply": "2024-07-22T05:13:15.988712Z"
    },
    "executionInfo": {
     "elapsed": 2,
     "status": "ok",
     "timestamp": 1721583198824,
     "user": {
      "displayName": "Aaditya Garg",
      "userId": "02169321363610543926"
     },
     "user_tz": -330
    },
    "id": "znrk5BrL6kuq",
    "papermill": {
     "duration": 0.107547,
     "end_time": "2024-07-22T05:13:15.991480",
     "exception": false,
     "start_time": "2024-07-22T05:13:15.883933",
     "status": "completed"
    },
    "tags": []
   },
   "outputs": [],
   "source": [
    "class Project(keras.layers.Layer):\n",
    "  \"\"\"\n",
    "    Project certain dimensions of the tensor as the data is passed through different\n",
    "    sized filters and downsampled.\n",
    "  \"\"\"\n",
    "  def __init__(self, units):\n",
    "    super().__init__()\n",
    "    self.seq = keras.Sequential([\n",
    "        layers.Dense(units),\n",
    "        layers.LayerNormalization()\n",
    "    ])\n",
    "\n",
    "  def call(self, x):\n",
    "    return self.seq(x)"
   ]
  },
  {
   "cell_type": "code",
   "execution_count": 18,
   "id": "f18a7898",
   "metadata": {
    "execution": {
     "iopub.execute_input": "2024-07-22T05:13:16.192976Z",
     "iopub.status.busy": "2024-07-22T05:13:16.192299Z",
     "iopub.status.idle": "2024-07-22T05:13:16.198296Z",
     "shell.execute_reply": "2024-07-22T05:13:16.197382Z"
    },
    "executionInfo": {
     "elapsed": 3,
     "status": "ok",
     "timestamp": 1721583502746,
     "user": {
      "displayName": "Aaditya Garg",
      "userId": "02169321363610543926"
     },
     "user_tz": -330
    },
    "id": "urjVgqvw-TlB",
    "papermill": {
     "duration": 0.110041,
     "end_time": "2024-07-22T05:13:16.200476",
     "exception": false,
     "start_time": "2024-07-22T05:13:16.090435",
     "status": "completed"
    },
    "tags": []
   },
   "outputs": [],
   "source": [
    "def add_residual_block(input, filters, kernel_size):\n",
    "  \"\"\"\n",
    "    Add residual blocks to the model. If the last dimensions of the input data\n",
    "    and filter size does not match, project it such that last dimension matches.\n",
    "  \"\"\"\n",
    "  out = ResidualMain(filters,\n",
    "                     kernel_size)(input)\n",
    "\n",
    "  res = input\n",
    "  # Using the Keras functional APIs, project the last dimension of the tensor to\n",
    "  # match the new filter size\n",
    "  if out.shape[-1] != input.shape[-1]:\n",
    "    res = Project(out.shape[-1])(res)\n",
    "\n",
    "  return layers.add([res, out])"
   ]
  },
  {
   "cell_type": "code",
   "execution_count": 19,
   "id": "5a2458a2",
   "metadata": {
    "execution": {
     "iopub.execute_input": "2024-07-22T05:13:16.402758Z",
     "iopub.status.busy": "2024-07-22T05:13:16.401937Z",
     "iopub.status.idle": "2024-07-22T05:13:16.408895Z",
     "shell.execute_reply": "2024-07-22T05:13:16.408042Z"
    },
    "executionInfo": {
     "elapsed": 2,
     "status": "ok",
     "timestamp": 1721583504284,
     "user": {
      "displayName": "Aaditya Garg",
      "userId": "02169321363610543926"
     },
     "user_tz": -330
    },
    "id": "lQOWuc2I-QqK",
    "papermill": {
     "duration": 0.109275,
     "end_time": "2024-07-22T05:13:16.410782",
     "exception": false,
     "start_time": "2024-07-22T05:13:16.301507",
     "status": "completed"
    },
    "tags": []
   },
   "outputs": [],
   "source": [
    "class ResizeVideo(keras.layers.Layer):\n",
    "  def __init__(self, height, width):\n",
    "    super().__init__()\n",
    "    self.height = height\n",
    "    self.width = width\n",
    "    self.resizing_layer = layers.Resizing(self.height, self.width)\n",
    "\n",
    "  def call(self, video):\n",
    "    \"\"\"\n",
    "      Use the einops library to resize the tensor.\n",
    "\n",
    "      Args:\n",
    "        video: Tensor representation of the video, in the form of a set of frames.\n",
    "\n",
    "      Return:\n",
    "        A downsampled size of the video according to the new height and width it should be resized to.\n",
    "    \"\"\"\n",
    "    # b stands for batch size, t stands for time, h stands for height,\n",
    "    # w stands for width, and c stands for the number of channels.\n",
    "    old_shape = einops.parse_shape(video, 'b t h w c')\n",
    "    images = einops.rearrange(video, 'b t h w c -> (b t) h w c')\n",
    "    images = self.resizing_layer(images)\n",
    "    videos = einops.rearrange(\n",
    "        images, '(b t) h w c -> b t h w c',\n",
    "        t = old_shape['t'])\n",
    "    return videos"
   ]
  },
  {
   "cell_type": "code",
   "execution_count": 20,
   "id": "9edd4d1b",
   "metadata": {
    "execution": {
     "iopub.execute_input": "2024-07-22T05:13:16.610295Z",
     "iopub.status.busy": "2024-07-22T05:13:16.609458Z",
     "iopub.status.idle": "2024-07-22T05:13:16.614459Z",
     "shell.execute_reply": "2024-07-22T05:13:16.613633Z"
    },
    "executionInfo": {
     "elapsed": 3,
     "status": "ok",
     "timestamp": 1721582558629,
     "user": {
      "displayName": "Aaditya Garg",
      "userId": "02169321363610543926"
     },
     "user_tz": -330
    },
    "id": "_bROfh_K-Wxs",
    "papermill": {
     "duration": 0.107444,
     "end_time": "2024-07-22T05:13:16.616383",
     "exception": false,
     "start_time": "2024-07-22T05:13:16.508939",
     "status": "completed"
    },
    "tags": []
   },
   "outputs": [],
   "source": [
    "# input_shape = (None, 10, HEIGHT, WIDTH, 3)\n",
    "# input = layers.Input(shape=(input_shape[1:]))\n",
    "# x = input\n",
    "\n",
    "# x = Conv2Plus1D(filters=16, kernel_size=(3, 7, 7), padding='same')(x)\n",
    "# x = layers.BatchNormalization()(x)\n",
    "# x = layers.ReLU()(x)\n",
    "# x = ResizeVideo(HEIGHT // 2, WIDTH // 2)(x)\n",
    "\n",
    "# # Block 1\n",
    "# x = add_residual_block(x, 16, (3, 3, 3))\n",
    "# x = ResizeVideo(HEIGHT // 4, WIDTH // 4)(x)\n",
    "\n",
    "# # Block 2\n",
    "# x = add_residual_block(x, 32, (3, 3, 3))\n",
    "# x = ResizeVideo(HEIGHT // 8, WIDTH // 8)(x)\n",
    "\n",
    "# # Block 3\n",
    "# x = add_residual_block(x, 64, (3, 3, 3))\n",
    "# x = ResizeVideo(HEIGHT // 16, WIDTH // 16)(x)\n",
    "\n",
    "# # Block 4\n",
    "# x = add_residual_block(x, 128, (3, 3, 3))\n",
    "\n",
    "# x = layers.GlobalAveragePooling3D()(x)\n",
    "# x = layers.Flatten()(x)\n",
    "# x = layers.Dense(19)(x)\n",
    "\n",
    "# model = keras.Model(input, x)\n",
    "# model.summary()"
   ]
  },
  {
   "cell_type": "code",
   "execution_count": 21,
   "id": "b41fd05c",
   "metadata": {
    "execution": {
     "iopub.execute_input": "2024-07-22T05:13:16.819550Z",
     "iopub.status.busy": "2024-07-22T05:13:16.819186Z",
     "iopub.status.idle": "2024-07-22T05:13:16.823979Z",
     "shell.execute_reply": "2024-07-22T05:13:16.823100Z"
    },
    "executionInfo": {
     "elapsed": 3,
     "status": "ok",
     "timestamp": 1721582558629,
     "user": {
      "displayName": "Aaditya Garg",
      "userId": "02169321363610543926"
     },
     "user_tz": -330
    },
    "id": "AysPyKJ3MT9N",
    "papermill": {
     "duration": 0.108937,
     "end_time": "2024-07-22T05:13:16.825963",
     "exception": false,
     "start_time": "2024-07-22T05:13:16.717026",
     "status": "completed"
    },
    "tags": []
   },
   "outputs": [],
   "source": [
    "# input_shape = (None, 10, HEIGHT, WIDTH, 3)\n",
    "# input = layers.Input(shape=(input_shape[1:]))\n",
    "# x = input\n",
    "\n",
    "# x = Conv2Plus1D(filters=16, kernel_size=(3, 7, 7), padding='same')(x)\n",
    "# x = layers.BatchNormalization()(x)\n",
    "# x = layers.ReLU()(x)\n",
    "# x = Dropout(0.3)(x)\n",
    "# x = ResizeVideo(HEIGHT // 2, WIDTH // 2)(x)\n",
    "\n",
    "# # Block 1\n",
    "# x = add_residual_block(x, 16, (3, 3, 3))\n",
    "# x = ResizeVideo(HEIGHT // 4, WIDTH // 4)(x)\n",
    "\n",
    "# # Block 2\n",
    "# x = add_residual_block(x, 32, (3, 3, 3))\n",
    "# x = ResizeVideo(HEIGHT // 8, WIDTH // 8)(x)\n",
    "\n",
    "# # Block 3\n",
    "# x = add_residual_block(x, 64, (3, 3, 3))\n",
    "# x = ResizeVideo(HEIGHT // 16, WIDTH // 16)(x)\n",
    "\n",
    "# # Block 4\n",
    "# x = add_residual_block(x, 128, (3, 3, 3))\n",
    "\n",
    "# x = layers.GlobalAveragePooling3D()(x)\n",
    "# x = layers.Flatten()(x)\n",
    "# x = Dropout(0.4)(x)\n",
    "# x = layers.Dense(10)(x)\n",
    "\n",
    "# model1 = keras.Model(input, x)"
   ]
  },
  {
   "cell_type": "code",
   "execution_count": 22,
   "id": "7fd27018",
   "metadata": {
    "execution": {
     "iopub.execute_input": "2024-07-22T05:13:17.031156Z",
     "iopub.status.busy": "2024-07-22T05:13:17.030293Z",
     "iopub.status.idle": "2024-07-22T05:13:17.035346Z",
     "shell.execute_reply": "2024-07-22T05:13:17.034463Z"
    },
    "executionInfo": {
     "elapsed": 3,
     "status": "ok",
     "timestamp": 1721582558629,
     "user": {
      "displayName": "Aaditya Garg",
      "userId": "02169321363610543926"
     },
     "user_tz": -330
    },
    "id": "s8M1g9OipO8z",
    "papermill": {
     "duration": 0.109435,
     "end_time": "2024-07-22T05:13:17.037212",
     "exception": false,
     "start_time": "2024-07-22T05:13:16.927777",
     "status": "completed"
    },
    "tags": []
   },
   "outputs": [],
   "source": [
    "# input_shape = (None, 10, HEIGHT, WIDTH, 3)\n",
    "# input = layers.Input(shape=(input_shape[1:]))\n",
    "# x = input\n",
    "\n",
    "# x = Conv2Plus1D(filters=16, kernel_size=(3, 7, 7), padding='same')(x)\n",
    "# x = layers.BatchNormalization()(x)\n",
    "# x = layers.ReLU()(x)\n",
    "# x = Dropout(0.5)(x)\n",
    "# x = ResizeVideo(HEIGHT // 2, WIDTH // 2)(x)\n",
    "\n",
    "# # Block 1\n",
    "# x = add_residual_block(x, 16, (3, 3, 3))\n",
    "# x = ResizeVideo(HEIGHT // 4, WIDTH // 4)(x)\n",
    "\n",
    "# # Block 2\n",
    "# x = add_residual_block(x, 32, (3, 3, 3))\n",
    "# x = ResizeVideo(HEIGHT // 8, WIDTH // 8)(x)\n",
    "\n",
    "# # Block 3\n",
    "# x = add_residual_block(x, 64, (3, 3, 3))\n",
    "# x = ResizeVideo(HEIGHT // 16, WIDTH // 16)(x)\n",
    "\n",
    "# # Block 4\n",
    "# x = add_residual_block(x, 128, (3, 3, 3))\n",
    "\n",
    "# x = layers.GlobalAveragePooling3D()(x)\n",
    "# x = layers.Flatten()(x)\n",
    "# x = Dropout(0.5)(x)\n",
    "# x = layers.Dense(10)(x)\n",
    "\n",
    "# model4 = keras.Model(input, x)"
   ]
  },
  {
   "cell_type": "code",
   "execution_count": 23,
   "id": "638fdfe3",
   "metadata": {
    "execution": {
     "iopub.execute_input": "2024-07-22T05:13:17.237267Z",
     "iopub.status.busy": "2024-07-22T05:13:17.236535Z",
     "iopub.status.idle": "2024-07-22T05:13:17.241380Z",
     "shell.execute_reply": "2024-07-22T05:13:17.240556Z"
    },
    "executionInfo": {
     "elapsed": 3,
     "status": "ok",
     "timestamp": 1721582558629,
     "user": {
      "displayName": "Aaditya Garg",
      "userId": "02169321363610543926"
     },
     "user_tz": -330
    },
    "id": "XWCzPwoSABy_",
    "papermill": {
     "duration": 0.106508,
     "end_time": "2024-07-22T05:13:17.243398",
     "exception": false,
     "start_time": "2024-07-22T05:13:17.136890",
     "status": "completed"
    },
    "tags": []
   },
   "outputs": [],
   "source": [
    "# from keras import layers\n",
    "# from keras.regularizers import l1_l2\n",
    "# input_shape = (None, 10, HEIGHT, WIDTH, 3)\n",
    "# input = layers.Input(shape=(input_shape[1:]))\n",
    "# x = input\n",
    "\n",
    "# # Initial Convolution with regularization\n",
    "# x = Conv2Plus1D(filters=16, kernel_size=(3, 7, 7), padding='same')(x)\n",
    "# x = layers.BatchNormalization()(x)\n",
    "# x = layers.ReLU()(x)\n",
    "# x = Dropout(0.4)(x)\n",
    "# x = ResizeVideo(HEIGHT // 2, WIDTH // 2)(x)\n",
    "\n",
    "# # Block 1 (Potentially reduce the number of filters here)\n",
    "# x = add_residual_block(x, 16, (3, 3, 3))\n",
    "# x = ResizeVideo(HEIGHT // 4, WIDTH // 4)(x)\n",
    "\n",
    "# # Block 2\n",
    "# x = add_residual_block(x, 32, (3, 3, 3))\n",
    "# x = ResizeVideo(HEIGHT // 8, WIDTH // 8)(x)\n",
    "\n",
    "# # Block 3\n",
    "# x = add_residual_block(x, 64, (3, 3, 3))\n",
    "# x = ResizeVideo(HEIGHT // 16, WIDTH // 16)(x)\n",
    "\n",
    "# # Block 4\n",
    "# x = add_residual_block(x, 128, (3, 3, 3))\n",
    "\n",
    "# x = layers.GlobalAveragePooling3D()(x)\n",
    "# x = layers.Flatten()(x)\n",
    "# x = Dropout(0.5)(x)  # Increased dropout\n",
    "# x = layers.Dense(10, kernel_regularizer=l1_l2(l1=0.01, l2=0.01))(x)  # Regularization\n",
    "\n",
    "# model2 = keras.Model(input, x)"
   ]
  },
  {
   "cell_type": "code",
   "execution_count": 24,
   "id": "6ad656c1",
   "metadata": {
    "execution": {
     "iopub.execute_input": "2024-07-22T05:13:17.451141Z",
     "iopub.status.busy": "2024-07-22T05:13:17.450389Z",
     "iopub.status.idle": "2024-07-22T05:13:17.455274Z",
     "shell.execute_reply": "2024-07-22T05:13:17.454422Z"
    },
    "executionInfo": {
     "elapsed": 3,
     "status": "ok",
     "timestamp": 1721582558629,
     "user": {
      "displayName": "Aaditya Garg",
      "userId": "02169321363610543926"
     },
     "user_tz": -330
    },
    "id": "fQgOpXkr9pQL",
    "papermill": {
     "duration": 0.113268,
     "end_time": "2024-07-22T05:13:17.457376",
     "exception": false,
     "start_time": "2024-07-22T05:13:17.344108",
     "status": "completed"
    },
    "tags": []
   },
   "outputs": [],
   "source": [
    "# from keras import layers\n",
    "# from keras.regularizers import l1_l2\n",
    "# input_shape = (None, 10, HEIGHT, WIDTH, 3)\n",
    "# input = layers.Input(shape=(input_shape[1:]))\n",
    "# x = input\n",
    "\n",
    "# # Initial Convolution with regularization\n",
    "# x = Conv2Plus1D(filters=16, kernel_size=(3, 7, 7), padding='same')(x)\n",
    "# x = layers.BatchNormalization()(x)\n",
    "# x = layers.ReLU()(x)\n",
    "# x = Dropout(0.6)(x)\n",
    "# x = ResizeVideo(HEIGHT // 2, WIDTH // 2)(x)\n",
    "\n",
    "# # Block 1 (Potentially reduce the number of filters here)\n",
    "# x = add_residual_block(x, 16, (3, 3, 3))\n",
    "# x = ResizeVideo(HEIGHT // 4, WIDTH // 4)(x)\n",
    "\n",
    "# # Block 2\n",
    "# x = add_residual_block(x, 32, (3, 3, 3))\n",
    "# x = ResizeVideo(HEIGHT // 8, WIDTH // 8)(x)\n",
    "\n",
    "# # Block 3\n",
    "# x = add_residual_block(x, 64, (3, 3, 3))\n",
    "# x = ResizeVideo(HEIGHT // 16, WIDTH // 16)(x)\n",
    "\n",
    "# # Block 4\n",
    "# x = add_residual_block(x, 128, (3, 3, 3))\n",
    "\n",
    "# x = layers.GlobalAveragePooling3D()(x)\n",
    "# x = layers.Flatten()(x)\n",
    "# x = Dropout(0.7)(x)  # Increased dropout\n",
    "# x = layers.Dense(10, kernel_regularizer=l1_l2(l1=0.01, l2=0.01))(x)  # Regularization\n",
    "\n",
    "# model3 = keras.Model(input, x)"
   ]
  },
  {
   "cell_type": "code",
   "execution_count": 25,
   "id": "3247a441",
   "metadata": {
    "execution": {
     "iopub.execute_input": "2024-07-22T05:13:17.670875Z",
     "iopub.status.busy": "2024-07-22T05:13:17.670209Z",
     "iopub.status.idle": "2024-07-22T05:13:19.442630Z",
     "shell.execute_reply": "2024-07-22T05:13:19.441549Z"
    },
    "id": "6m-SoqoGJzcF",
    "papermill": {
     "duration": 1.884214,
     "end_time": "2024-07-22T05:13:19.445596",
     "exception": false,
     "start_time": "2024-07-22T05:13:17.561382",
     "status": "completed"
    },
    "tags": []
   },
   "outputs": [],
   "source": [
    "from keras.layers import BatchNormalization\n",
    "input_shape = (None, 10, HEIGHT, WIDTH, 3)\n",
    "input = layers.Input(shape=(input_shape[1:]))\n",
    "\n",
    "x = Conv2Plus1D(filters=16, kernel_size=(3, 7, 7), padding='same')(input)\n",
    "x = BatchNormalization()(x)\n",
    "x = layers.ReLU()(x)\n",
    "x = ResizeVideo(HEIGHT // 2, WIDTH // 2)(x)\n",
    "\n",
    "# Block 1\n",
    "x = add_residual_block(x, 16, (3, 3, 3))\n",
    "x = ResizeVideo(HEIGHT // 4, WIDTH // 4)(x)\n",
    "\n",
    "# Block 2\n",
    "x = add_residual_block(x, 32, (3, 3, 3))\n",
    "x = ResizeVideo(HEIGHT // 8, WIDTH // 8)(x)\n",
    "\n",
    "# Block 3\n",
    "x = add_residual_block(x, 64, (3, 3, 3))\n",
    "x = ResizeVideo(HEIGHT // 16, WIDTH // 16)(x)\n",
    "\n",
    "# Block 4\n",
    "x = add_residual_block(x, 128, (3, 3, 3))\n",
    "\n",
    "x = layers.GlobalAveragePooling3D()(x)\n",
    "x = layers.Flatten()(x)\n",
    "output = layers.Dense(19, activation='softmax')(x)\n",
    "\n",
    "model = keras.Model(input, output)"
   ]
  },
  {
   "cell_type": "code",
   "execution_count": 26,
   "id": "86882148",
   "metadata": {
    "execution": {
     "iopub.execute_input": "2024-07-22T05:13:19.672903Z",
     "iopub.status.busy": "2024-07-22T05:13:19.672518Z",
     "iopub.status.idle": "2024-07-22T05:13:20.912699Z",
     "shell.execute_reply": "2024-07-22T05:13:20.911619Z"
    },
    "executionInfo": {
     "elapsed": 4106,
     "status": "ok",
     "timestamp": 1721583217570,
     "user": {
      "displayName": "Aaditya Garg",
      "userId": "02169321363610543926"
     },
     "user_tz": -330
    },
    "id": "TiO0WylG-ZHM",
    "papermill": {
     "duration": 1.350032,
     "end_time": "2024-07-22T05:13:20.915312",
     "exception": false,
     "start_time": "2024-07-22T05:13:19.565280",
     "status": "completed"
    },
    "tags": []
   },
   "outputs": [],
   "source": [
    "frames, label = next(iter(train_ds))\n",
    "model.build(frames)"
   ]
  },
  {
   "cell_type": "code",
   "execution_count": 27,
   "id": "07f23918",
   "metadata": {
    "execution": {
     "iopub.execute_input": "2024-07-22T05:13:21.126163Z",
     "iopub.status.busy": "2024-07-22T05:13:21.125324Z",
     "iopub.status.idle": "2024-07-22T05:13:21.770136Z",
     "shell.execute_reply": "2024-07-22T05:13:21.769220Z"
    },
    "executionInfo": {
     "elapsed": 13,
     "status": "ok",
     "timestamp": 1721583217571,
     "user": {
      "displayName": "Aaditya Garg",
      "userId": "02169321363610543926"
     },
     "user_tz": -330
    },
    "id": "GAsKrM8r-bKM",
    "outputId": "26a0cd54-d798-41e4-99ff-f45345538e8b",
    "papermill": {
     "duration": 0.753035,
     "end_time": "2024-07-22T05:13:21.773463",
     "exception": false,
     "start_time": "2024-07-22T05:13:21.020428",
     "status": "completed"
    },
    "tags": []
   },
   "outputs": [
    {
     "data": {
      "image/png": "[encoded data removed]",
      "text/plain": [
       "<IPython.core.display.Image object>"
      ]
     },
     "execution_count": 27,
     "metadata": {},
     "output_type": "execute_result"
    }
   ],
   "source": [
    "# Visualize the model\n",
    "keras.utils.plot_model(model, expand_nested=True, dpi=60, show_shapes=True)"
   ]
  },
  {
   "cell_type": "markdown",
   "id": "87d87097",
   "metadata": {
    "id": "1yvJJPnY-dMP",
    "papermill": {
     "duration": 0.102405,
     "end_time": "2024-07-22T05:13:21.983247",
     "exception": false,
     "start_time": "2024-07-22T05:13:21.880842",
     "status": "completed"
    },
    "tags": []
   },
   "source": [
    "## Train the model\n",
    "\n",
    "For this tutorial, choose the `tf.keras.optimizers.Adam` optimizer and the `tf.keras.losses.SparseCategoricalCrossentropy` loss function. Use the `metrics` argument to the view the accuracy of the model performance at every step."
   ]
  },
  {
   "cell_type": "code",
   "execution_count": 28,
   "id": "3af5335c",
   "metadata": {
    "execution": {
     "iopub.execute_input": "2024-07-22T05:13:22.189669Z",
     "iopub.status.busy": "2024-07-22T05:13:22.188800Z",
     "iopub.status.idle": "2024-07-22T06:25:26.731290Z",
     "shell.execute_reply": "2024-07-22T06:25:26.730284Z"
    },
    "papermill": {
     "duration": 4324.647309,
     "end_time": "2024-07-22T06:25:26.733314",
     "exception": false,
     "start_time": "2024-07-22T05:13:22.086005",
     "status": "completed"
    },
    "tags": []
   },
   "outputs": [
    {
     "name": "stdout",
     "output_type": "stream",
     "text": [
      "Number of devices: 2\n",
      "Epoch 1/1500\n",
      "\u001b[1m95/95\u001b[0m \u001b[32m━━━━━━━━━━━━━━━━━━━━\u001b[0m\u001b[37m\u001b[0m \u001b[1m0s\u001b[0m 389ms/step - accuracy: 0.0495 - loss: 3.8099\n",
      "Epoch 1: saving model to /kaggle/working/training_checkpoints2/cp-0001.weights.h5\n",
      "\u001b[1m95/95\u001b[0m \u001b[32m━━━━━━━━━━━━━━━━━━━━\u001b[0m\u001b[37m\u001b[0m \u001b[1m88s\u001b[0m 469ms/step - accuracy: 0.0495 - loss: 3.8061 - val_accuracy: 0.0632 - val_loss: 3.0120 - learning_rate: 0.0010\n",
      "Epoch 2/1500\n",
      "\u001b[1m95/95\u001b[0m \u001b[32m━━━━━━━━━━━━━━━━━━━━\u001b[0m\u001b[37m\u001b[0m \u001b[1m0s\u001b[0m 400ms/step - accuracy: 0.0755 - loss: 3.0227\n",
      "Epoch 2: saving model to /kaggle/working/training_checkpoints2/cp-0002.weights.h5\n",
      "\u001b[1m95/95\u001b[0m \u001b[32m━━━━━━━━━━━━━━━━━━━━\u001b[0m\u001b[37m\u001b[0m \u001b[1m41s\u001b[0m 435ms/step - accuracy: 0.0757 - loss: 3.0225 - val_accuracy: 0.1263 - val_loss: 2.9997 - learning_rate: 0.0010\n",
      "Epoch 3/1500\n",
      "\u001b[1m95/95\u001b[0m \u001b[32m━━━━━━━━━━━━━━━━━━━━\u001b[0m\u001b[37m\u001b[0m \u001b[1m0s\u001b[0m 403ms/step - accuracy: 0.0689 - loss: 2.9529\n",
      "Epoch 3: saving model to /kaggle/working/training_checkpoints2/cp-0003.weights.h5\n",
      "\u001b[1m95/95\u001b[0m \u001b[32m━━━━━━━━━━━━━━━━━━━━\u001b[0m\u001b[37m\u001b[0m \u001b[1m42s\u001b[0m 437ms/step - accuracy: 0.0690 - loss: 2.9527 - val_accuracy: 0.1053 - val_loss: 2.9644 - learning_rate: 0.0010\n",
      "Epoch 4/1500\n",
      "\u001b[1m95/95\u001b[0m \u001b[32m━━━━━━━━━━━━━━━━━━━━\u001b[0m\u001b[37m\u001b[0m \u001b[1m0s\u001b[0m 406ms/step - accuracy: 0.0764 - loss: 2.9188\n",
      "Epoch 4: saving model to /kaggle/working/training_checkpoints2/cp-0004.weights.h5\n",
      "\u001b[1m95/95\u001b[0m \u001b[32m━━━━━━━━━━━━━━━━━━━━\u001b[0m\u001b[37m\u001b[0m \u001b[1m42s\u001b[0m 440ms/step - accuracy: 0.0766 - loss: 2.9186 - val_accuracy: 0.1053 - val_loss: 2.9386 - learning_rate: 0.0010\n",
      "Epoch 5/1500\n",
      "\u001b[1m95/95\u001b[0m \u001b[32m━━━━━━━━━━━━━━━━━━━━\u001b[0m\u001b[37m\u001b[0m \u001b[1m0s\u001b[0m 402ms/step - accuracy: 0.0707 - loss: 2.8930\n",
      "Epoch 5: saving model to /kaggle/working/training_checkpoints2/cp-0005.weights.h5\n",
      "\u001b[1m95/95\u001b[0m \u001b[32m━━━━━━━━━━━━━━━━━━━━\u001b[0m\u001b[37m\u001b[0m \u001b[1m42s\u001b[0m 438ms/step - accuracy: 0.0708 - loss: 2.8930 - val_accuracy: 0.1053 - val_loss: 2.9266 - learning_rate: 0.0010\n",
      "Epoch 6/1500\n",
      "\u001b[1m95/95\u001b[0m \u001b[32m━━━━━━━━━━━━━━━━━━━━\u001b[0m\u001b[37m\u001b[0m \u001b[1m0s\u001b[0m 402ms/step - accuracy: 0.0726 - loss: 2.8795\n",
      "Epoch 6: saving model to /kaggle/working/training_checkpoints2/cp-0006.weights.h5\n",
      "\u001b[1m95/95\u001b[0m \u001b[32m━━━━━━━━━━━━━━━━━━━━\u001b[0m\u001b[37m\u001b[0m \u001b[1m42s\u001b[0m 438ms/step - accuracy: 0.0727 - loss: 2.8795 - val_accuracy: 0.1053 - val_loss: 2.9187 - learning_rate: 0.0010\n",
      "Epoch 7/1500\n",
      "\u001b[1m95/95\u001b[0m \u001b[32m━━━━━━━━━━━━━━━━━━━━\u001b[0m\u001b[37m\u001b[0m \u001b[1m0s\u001b[0m 403ms/step - accuracy: 0.0713 - loss: 2.8681\n",
      "Epoch 7: saving model to /kaggle/working/training_checkpoints2/cp-0007.weights.h5\n",
      "\u001b[1m95/95\u001b[0m \u001b[32m━━━━━━━━━━━━━━━━━━━━\u001b[0m\u001b[37m\u001b[0m \u001b[1m42s\u001b[0m 439ms/step - accuracy: 0.0714 - loss: 2.8681 - val_accuracy: 0.1053 - val_loss: 2.9139 - learning_rate: 0.0010\n",
      "Epoch 8/1500\n",
      "\u001b[1m95/95\u001b[0m \u001b[32m━━━━━━━━━━━━━━━━━━━━\u001b[0m\u001b[37m\u001b[0m \u001b[1m0s\u001b[0m 403ms/step - accuracy: 0.0766 - loss: 2.8572\n",
      "Epoch 8: saving model to /kaggle/working/training_checkpoints2/cp-0008.weights.h5\n",
      "\u001b[1m95/95\u001b[0m \u001b[32m━━━━━━━━━━━━━━━━━━━━\u001b[0m\u001b[37m\u001b[0m \u001b[1m42s\u001b[0m 440ms/step - accuracy: 0.0766 - loss: 2.8571 - val_accuracy: 0.1053 - val_loss: 2.9091 - learning_rate: 0.0010\n",
      "Epoch 9/1500\n",
      "\u001b[1m95/95\u001b[0m \u001b[32m━━━━━━━━━━━━━━━━━━━━\u001b[0m\u001b[37m\u001b[0m \u001b[1m0s\u001b[0m 402ms/step - accuracy: 0.0731 - loss: 2.8481\n",
      "Epoch 9: saving model to /kaggle/working/training_checkpoints2/cp-0009.weights.h5\n",
      "\u001b[1m95/95\u001b[0m \u001b[32m━━━━━━━━━━━━━━━━━━━━\u001b[0m\u001b[37m\u001b[0m \u001b[1m42s\u001b[0m 438ms/step - accuracy: 0.0732 - loss: 2.8480 - val_accuracy: 0.1053 - val_loss: 2.9009 - learning_rate: 0.0010\n",
      "Epoch 10/1500\n",
      "\u001b[1m95/95\u001b[0m \u001b[32m━━━━━━━━━━━━━━━━━━━━\u001b[0m\u001b[37m\u001b[0m \u001b[1m0s\u001b[0m 404ms/step - accuracy: 0.0842 - loss: 2.8375\n",
      "Epoch 10: saving model to /kaggle/working/training_checkpoints2/cp-0010.weights.h5\n",
      "\u001b[1m95/95\u001b[0m \u001b[32m━━━━━━━━━━━━━━━━━━━━\u001b[0m\u001b[37m\u001b[0m \u001b[1m42s\u001b[0m 439ms/step - accuracy: 0.0842 - loss: 2.8374 - val_accuracy: 0.0632 - val_loss: 2.8894 - learning_rate: 0.0010\n",
      "Epoch 11/1500\n",
      "\u001b[1m95/95\u001b[0m \u001b[32m━━━━━━━━━━━━━━━━━━━━\u001b[0m\u001b[37m\u001b[0m \u001b[1m0s\u001b[0m 404ms/step - accuracy: 0.0826 - loss: 2.8293\n",
      "Epoch 11: saving model to /kaggle/working/training_checkpoints2/cp-0011.weights.h5\n",
      "\u001b[1m95/95\u001b[0m \u001b[32m━━━━━━━━━━━━━━━━━━━━\u001b[0m\u001b[37m\u001b[0m \u001b[1m42s\u001b[0m 440ms/step - accuracy: 0.0826 - loss: 2.8292 - val_accuracy: 0.0632 - val_loss: 2.8786 - learning_rate: 0.0010\n",
      "Epoch 12/1500\n",
      "\u001b[1m95/95\u001b[0m \u001b[32m━━━━━━━━━━━━━━━━━━━━\u001b[0m\u001b[37m\u001b[0m \u001b[1m0s\u001b[0m 401ms/step - accuracy: 0.0909 - loss: 2.8205\n",
      "Epoch 12: saving model to /kaggle/working/training_checkpoints2/cp-0012.weights.h5\n",
      "\u001b[1m95/95\u001b[0m \u001b[32m━━━━━━━━━━━━━━━━━━━━\u001b[0m\u001b[37m\u001b[0m \u001b[1m41s\u001b[0m 434ms/step - accuracy: 0.0908 - loss: 2.8204 - val_accuracy: 0.0632 - val_loss: 2.8756 - learning_rate: 0.0010\n",
      "Epoch 13/1500\n",
      "\u001b[1m95/95\u001b[0m \u001b[32m━━━━━━━━━━━━━━━━━━━━\u001b[0m\u001b[37m\u001b[0m \u001b[1m0s\u001b[0m 403ms/step - accuracy: 0.0852 - loss: 2.8135\n",
      "Epoch 13: saving model to /kaggle/working/training_checkpoints2/cp-0013.weights.h5\n",
      "\u001b[1m95/95\u001b[0m \u001b[32m━━━━━━━━━━━━━━━━━━━━\u001b[0m\u001b[37m\u001b[0m \u001b[1m42s\u001b[0m 439ms/step - accuracy: 0.0852 - loss: 2.8134 - val_accuracy: 0.0632 - val_loss: 2.8720 - learning_rate: 0.0010\n",
      "Epoch 14/1500\n",
      "\u001b[1m95/95\u001b[0m \u001b[32m━━━━━━━━━━━━━━━━━━━━\u001b[0m\u001b[37m\u001b[0m \u001b[1m0s\u001b[0m 398ms/step - accuracy: 0.0899 - loss: 2.8086\n",
      "Epoch 14: saving model to /kaggle/working/training_checkpoints2/cp-0014.weights.h5\n",
      "\u001b[1m95/95\u001b[0m \u001b[32m━━━━━━━━━━━━━━━━━━━━\u001b[0m\u001b[37m\u001b[0m \u001b[1m41s\u001b[0m 435ms/step - accuracy: 0.0898 - loss: 2.8085 - val_accuracy: 0.0632 - val_loss: 2.8696 - learning_rate: 0.0010\n",
      "Epoch 15/1500\n",
      "\u001b[1m95/95\u001b[0m \u001b[32m━━━━━━━━━━━━━━━━━━━━\u001b[0m\u001b[37m\u001b[0m \u001b[1m0s\u001b[0m 395ms/step - accuracy: 0.0935 - loss: 2.8030\n",
      "Epoch 15: saving model to /kaggle/working/training_checkpoints2/cp-0015.weights.h5\n",
      "\u001b[1m95/95\u001b[0m \u001b[32m━━━━━━━━━━━━━━━━━━━━\u001b[0m\u001b[37m\u001b[0m \u001b[1m41s\u001b[0m 430ms/step - accuracy: 0.0934 - loss: 2.8028 - val_accuracy: 0.0632 - val_loss: 2.8641 - learning_rate: 0.0010\n",
      "Epoch 16/1500\n",
      "\u001b[1m95/95\u001b[0m \u001b[32m━━━━━━━━━━━━━━━━━━━━\u001b[0m\u001b[37m\u001b[0m \u001b[1m0s\u001b[0m 407ms/step - accuracy: 0.0977 - loss: 2.8003\n",
      "Epoch 16: saving model to /kaggle/working/training_checkpoints2/cp-0016.weights.h5\n",
      "\u001b[1m95/95\u001b[0m \u001b[32m━━━━━━━━━━━━━━━━━━━━\u001b[0m\u001b[37m\u001b[0m \u001b[1m42s\u001b[0m 442ms/step - accuracy: 0.0975 - loss: 2.8002 - val_accuracy: 0.0632 - val_loss: 2.8587 - learning_rate: 0.0010\n",
      "Epoch 17/1500\n",
      "\u001b[1m95/95\u001b[0m \u001b[32m━━━━━━━━━━━━━━━━━━━━\u001b[0m\u001b[37m\u001b[0m \u001b[1m0s\u001b[0m 406ms/step - accuracy: 0.0976 - loss: 2.7938\n",
      "Epoch 17: saving model to /kaggle/working/training_checkpoints2/cp-0017.weights.h5\n",
      "\u001b[1m95/95\u001b[0m \u001b[32m━━━━━━━━━━━━━━━━━━━━\u001b[0m\u001b[37m\u001b[0m \u001b[1m42s\u001b[0m 441ms/step - accuracy: 0.0975 - loss: 2.7936 - val_accuracy: 0.0632 - val_loss: 2.8596 - learning_rate: 0.0010\n",
      "Epoch 18/1500\n",
      "\u001b[1m95/95\u001b[0m \u001b[32m━━━━━━━━━━━━━━━━━━━━\u001b[0m\u001b[37m\u001b[0m \u001b[1m0s\u001b[0m 402ms/step - accuracy: 0.0941 - loss: 2.7901\n",
      "Epoch 18: saving model to /kaggle/working/training_checkpoints2/cp-0018.weights.h5\n",
      "\u001b[1m95/95\u001b[0m \u001b[32m━━━━━━━━━━━━━━━━━━━━\u001b[0m\u001b[37m\u001b[0m \u001b[1m42s\u001b[0m 436ms/step - accuracy: 0.0941 - loss: 2.7899 - val_accuracy: 0.0947 - val_loss: 2.8517 - learning_rate: 0.0010\n",
      "Epoch 19/1500\n",
      "\u001b[1m95/95\u001b[0m \u001b[32m━━━━━━━━━━━━━━━━━━━━\u001b[0m\u001b[37m\u001b[0m \u001b[1m0s\u001b[0m 404ms/step - accuracy: 0.0929 - loss: 2.7935\n",
      "Epoch 19: saving model to /kaggle/working/training_checkpoints2/cp-0019.weights.h5\n",
      "\u001b[1m95/95\u001b[0m \u001b[32m━━━━━━━━━━━━━━━━━━━━\u001b[0m\u001b[37m\u001b[0m \u001b[1m42s\u001b[0m 438ms/step - accuracy: 0.0930 - loss: 2.7933 - val_accuracy: 0.1053 - val_loss: 2.8486 - learning_rate: 0.0010\n",
      "Epoch 20/1500\n",
      "\u001b[1m95/95\u001b[0m \u001b[32m━━━━━━━━━━━━━━━━━━━━\u001b[0m\u001b[37m\u001b[0m \u001b[1m0s\u001b[0m 405ms/step - accuracy: 0.1069 - loss: 2.7852\n",
      "Epoch 20: saving model to /kaggle/working/training_checkpoints2/cp-0020.weights.h5\n",
      "\u001b[1m95/95\u001b[0m \u001b[32m━━━━━━━━━━━━━━━━━━━━\u001b[0m\u001b[37m\u001b[0m \u001b[1m42s\u001b[0m 440ms/step - accuracy: 0.1069 - loss: 2.7850 - val_accuracy: 0.0842 - val_loss: 2.8467 - learning_rate: 0.0010\n",
      "Epoch 21/1500\n",
      "\u001b[1m95/95\u001b[0m \u001b[32m━━━━━━━━━━━━━━━━━━━━\u001b[0m\u001b[37m\u001b[0m \u001b[1m0s\u001b[0m 401ms/step - accuracy: 0.1080 - loss: 2.7791\n",
      "Epoch 21: saving model to /kaggle/working/training_checkpoints2/cp-0021.weights.h5\n",
      "\u001b[1m95/95\u001b[0m \u001b[32m━━━━━━━━━━━━━━━━━━━━\u001b[0m\u001b[37m\u001b[0m \u001b[1m42s\u001b[0m 436ms/step - accuracy: 0.1080 - loss: 2.7789 - val_accuracy: 0.0737 - val_loss: 2.8507 - learning_rate: 0.0010\n",
      "Epoch 22/1500\n",
      "\u001b[1m95/95\u001b[0m \u001b[32m━━━━━━━━━━━━━━━━━━━━\u001b[0m\u001b[37m\u001b[0m \u001b[1m0s\u001b[0m 407ms/step - accuracy: 0.1085 - loss: 2.7775\n",
      "Epoch 22: saving model to /kaggle/working/training_checkpoints2/cp-0022.weights.h5\n",
      "\u001b[1m95/95\u001b[0m \u001b[32m━━━━━━━━━━━━━━━━━━━━\u001b[0m\u001b[37m\u001b[0m \u001b[1m42s\u001b[0m 441ms/step - accuracy: 0.1086 - loss: 2.7773 - val_accuracy: 0.0842 - val_loss: 2.8415 - learning_rate: 0.0010\n",
      "Epoch 23/1500\n",
      "\u001b[1m95/95\u001b[0m \u001b[32m━━━━━━━━━━━━━━━━━━━━\u001b[0m\u001b[37m\u001b[0m \u001b[1m0s\u001b[0m 406ms/step - accuracy: 0.1116 - loss: 2.7746\n",
      "Epoch 23: saving model to /kaggle/working/training_checkpoints2/cp-0023.weights.h5\n",
      "\u001b[1m95/95\u001b[0m \u001b[32m━━━━━━━━━━━━━━━━━━━━\u001b[0m\u001b[37m\u001b[0m \u001b[1m42s\u001b[0m 439ms/step - accuracy: 0.1116 - loss: 2.7744 - val_accuracy: 0.0632 - val_loss: 2.8388 - learning_rate: 0.0010\n",
      "Epoch 24/1500\n",
      "\u001b[1m95/95\u001b[0m \u001b[32m━━━━━━━━━━━━━━━━━━━━\u001b[0m\u001b[37m\u001b[0m \u001b[1m0s\u001b[0m 402ms/step - accuracy: 0.1078 - loss: 2.7681\n",
      "Epoch 24: saving model to /kaggle/working/training_checkpoints2/cp-0024.weights.h5\n",
      "\u001b[1m95/95\u001b[0m \u001b[32m━━━━━━━━━━━━━━━━━━━━\u001b[0m\u001b[37m\u001b[0m \u001b[1m42s\u001b[0m 438ms/step - accuracy: 0.1078 - loss: 2.7680 - val_accuracy: 0.0737 - val_loss: 2.8418 - learning_rate: 0.0010\n",
      "Epoch 25/1500\n",
      "\u001b[1m95/95\u001b[0m \u001b[32m━━━━━━━━━━━━━━━━━━━━\u001b[0m\u001b[37m\u001b[0m \u001b[1m0s\u001b[0m 401ms/step - accuracy: 0.1123 - loss: 2.7645\n",
      "Epoch 25: saving model to /kaggle/working/training_checkpoints2/cp-0025.weights.h5\n",
      "\u001b[1m95/95\u001b[0m \u001b[32m━━━━━━━━━━━━━━━━━━━━\u001b[0m\u001b[37m\u001b[0m \u001b[1m42s\u001b[0m 436ms/step - accuracy: 0.1124 - loss: 2.7644 - val_accuracy: 0.0842 - val_loss: 2.8391 - learning_rate: 0.0010\n",
      "Epoch 26/1500\n",
      "\u001b[1m95/95\u001b[0m \u001b[32m━━━━━━━━━━━━━━━━━━━━\u001b[0m\u001b[37m\u001b[0m \u001b[1m0s\u001b[0m 400ms/step - accuracy: 0.1144 - loss: 2.7582\n",
      "Epoch 26: saving model to /kaggle/working/training_checkpoints2/cp-0026.weights.h5\n",
      "\u001b[1m95/95\u001b[0m \u001b[32m━━━━━━━━━━━━━━━━━━━━\u001b[0m\u001b[37m\u001b[0m \u001b[1m42s\u001b[0m 436ms/step - accuracy: 0.1145 - loss: 2.7581 - val_accuracy: 0.0737 - val_loss: 2.8345 - learning_rate: 0.0010\n",
      "Epoch 27/1500\n",
      "\u001b[1m95/95\u001b[0m \u001b[32m━━━━━━━━━━━━━━━━━━━━\u001b[0m\u001b[37m\u001b[0m \u001b[1m0s\u001b[0m 404ms/step - accuracy: 0.1049 - loss: 2.7549\n",
      "Epoch 27: saving model to /kaggle/working/training_checkpoints2/cp-0027.weights.h5\n",
      "\u001b[1m95/95\u001b[0m \u001b[32m━━━━━━━━━━━━━━━━━━━━\u001b[0m\u001b[37m\u001b[0m \u001b[1m42s\u001b[0m 439ms/step - accuracy: 0.1050 - loss: 2.7548 - val_accuracy: 0.0842 - val_loss: 2.8372 - learning_rate: 0.0010\n",
      "Epoch 28/1500\n",
      "\u001b[1m95/95\u001b[0m \u001b[32m━━━━━━━━━━━━━━━━━━━━\u001b[0m\u001b[37m\u001b[0m \u001b[1m0s\u001b[0m 404ms/step - accuracy: 0.1075 - loss: 2.7505\n",
      "Epoch 28: saving model to /kaggle/working/training_checkpoints2/cp-0028.weights.h5\n",
      "\u001b[1m95/95\u001b[0m \u001b[32m━━━━━━━━━━━━━━━━━━━━\u001b[0m\u001b[37m\u001b[0m \u001b[1m42s\u001b[0m 440ms/step - accuracy: 0.1077 - loss: 2.7504 - val_accuracy: 0.0842 - val_loss: 2.8233 - learning_rate: 0.0010\n",
      "Epoch 29/1500\n",
      "\u001b[1m95/95\u001b[0m \u001b[32m━━━━━━━━━━━━━━━━━━━━\u001b[0m\u001b[37m\u001b[0m \u001b[1m0s\u001b[0m 402ms/step - accuracy: 0.1084 - loss: 2.7458\n",
      "Epoch 29: saving model to /kaggle/working/training_checkpoints2/cp-0029.weights.h5\n",
      "\u001b[1m95/95\u001b[0m \u001b[32m━━━━━━━━━━━━━━━━━━━━\u001b[0m\u001b[37m\u001b[0m \u001b[1m41s\u001b[0m 435ms/step - accuracy: 0.1086 - loss: 2.7456 - val_accuracy: 0.1263 - val_loss: 2.8103 - learning_rate: 0.0010\n",
      "Epoch 30/1500\n",
      "\u001b[1m95/95\u001b[0m \u001b[32m━━━━━━━━━━━━━━━━━━━━\u001b[0m\u001b[37m\u001b[0m \u001b[1m0s\u001b[0m 405ms/step - accuracy: 0.1144 - loss: 2.7379\n",
      "Epoch 30: saving model to /kaggle/working/training_checkpoints2/cp-0030.weights.h5\n",
      "\u001b[1m95/95\u001b[0m \u001b[32m━━━━━━━━━━━━━━━━━━━━\u001b[0m\u001b[37m\u001b[0m \u001b[1m42s\u001b[0m 441ms/step - accuracy: 0.1144 - loss: 2.7377 - val_accuracy: 0.1263 - val_loss: 2.8129 - learning_rate: 0.0010\n",
      "Epoch 31/1500\n",
      "\u001b[1m95/95\u001b[0m \u001b[32m━━━━━━━━━━━━━━━━━━━━\u001b[0m\u001b[37m\u001b[0m \u001b[1m0s\u001b[0m 405ms/step - accuracy: 0.1191 - loss: 2.7444\n",
      "Epoch 31: saving model to /kaggle/working/training_checkpoints2/cp-0031.weights.h5\n",
      "\u001b[1m95/95\u001b[0m \u001b[32m━━━━━━━━━━━━━━━━━━━━\u001b[0m\u001b[37m\u001b[0m \u001b[1m42s\u001b[0m 440ms/step - accuracy: 0.1192 - loss: 2.7441 - val_accuracy: 0.1263 - val_loss: 2.7989 - learning_rate: 0.0010\n",
      "Epoch 32/1500\n",
      "\u001b[1m95/95\u001b[0m \u001b[32m━━━━━━━━━━━━━━━━━━━━\u001b[0m\u001b[37m\u001b[0m \u001b[1m0s\u001b[0m 404ms/step - accuracy: 0.1169 - loss: 2.7371\n",
      "Epoch 32: saving model to /kaggle/working/training_checkpoints2/cp-0032.weights.h5\n",
      "\u001b[1m95/95\u001b[0m \u001b[32m━━━━━━━━━━━━━━━━━━━━\u001b[0m\u001b[37m\u001b[0m \u001b[1m42s\u001b[0m 438ms/step - accuracy: 0.1170 - loss: 2.7369 - val_accuracy: 0.1263 - val_loss: 2.7957 - learning_rate: 0.0010\n",
      "Epoch 33/1500\n",
      "\u001b[1m95/95\u001b[0m \u001b[32m━━━━━━━━━━━━━━━━━━━━\u001b[0m\u001b[37m\u001b[0m \u001b[1m0s\u001b[0m 403ms/step - accuracy: 0.1258 - loss: 2.7247\n",
      "Epoch 33: saving model to /kaggle/working/training_checkpoints2/cp-0033.weights.h5\n",
      "\u001b[1m95/95\u001b[0m \u001b[32m━━━━━━━━━━━━━━━━━━━━\u001b[0m\u001b[37m\u001b[0m \u001b[1m42s\u001b[0m 437ms/step - accuracy: 0.1258 - loss: 2.7245 - val_accuracy: 0.1263 - val_loss: 2.8035 - learning_rate: 0.0010\n",
      "Epoch 34/1500\n",
      "\u001b[1m95/95\u001b[0m \u001b[32m━━━━━━━━━━━━━━━━━━━━\u001b[0m\u001b[37m\u001b[0m \u001b[1m0s\u001b[0m 406ms/step - accuracy: 0.1190 - loss: 2.7167\n",
      "Epoch 34: saving model to /kaggle/working/training_checkpoints2/cp-0034.weights.h5\n",
      "\u001b[1m95/95\u001b[0m \u001b[32m━━━━━━━━━━━━━━━━━━━━\u001b[0m\u001b[37m\u001b[0m \u001b[1m42s\u001b[0m 439ms/step - accuracy: 0.1191 - loss: 2.7165 - val_accuracy: 0.1263 - val_loss: 2.7867 - learning_rate: 0.0010\n",
      "Epoch 35/1500\n",
      "\u001b[1m95/95\u001b[0m \u001b[32m━━━━━━━━━━━━━━━━━━━━\u001b[0m\u001b[37m\u001b[0m \u001b[1m0s\u001b[0m 403ms/step - accuracy: 0.1239 - loss: 2.7261\n",
      "Epoch 35: saving model to /kaggle/working/training_checkpoints2/cp-0035.weights.h5\n",
      "\u001b[1m95/95\u001b[0m \u001b[32m━━━━━━━━━━━━━━━━━━━━\u001b[0m\u001b[37m\u001b[0m \u001b[1m42s\u001b[0m 438ms/step - accuracy: 0.1240 - loss: 2.7258 - val_accuracy: 0.1368 - val_loss: 2.7971 - learning_rate: 0.0010\n",
      "Epoch 36/1500\n",
      "\u001b[1m95/95\u001b[0m \u001b[32m━━━━━━━━━━━━━━━━━━━━\u001b[0m\u001b[37m\u001b[0m \u001b[1m0s\u001b[0m 404ms/step - accuracy: 0.1167 - loss: 2.7004\n",
      "Epoch 36: saving model to /kaggle/working/training_checkpoints2/cp-0036.weights.h5\n",
      "\u001b[1m95/95\u001b[0m \u001b[32m━━━━━━━━━━━━━━━━━━━━\u001b[0m\u001b[37m\u001b[0m \u001b[1m42s\u001b[0m 439ms/step - accuracy: 0.1169 - loss: 2.7002 - val_accuracy: 0.1368 - val_loss: 2.7742 - learning_rate: 0.0010\n",
      "Epoch 37/1500\n",
      "\u001b[1m95/95\u001b[0m \u001b[32m━━━━━━━━━━━━━━━━━━━━\u001b[0m\u001b[37m\u001b[0m \u001b[1m0s\u001b[0m 404ms/step - accuracy: 0.1167 - loss: 2.6977\n",
      "Epoch 37: saving model to /kaggle/working/training_checkpoints2/cp-0037.weights.h5\n",
      "\u001b[1m95/95\u001b[0m \u001b[32m━━━━━━━━━━━━━━━━━━━━\u001b[0m\u001b[37m\u001b[0m \u001b[1m42s\u001b[0m 437ms/step - accuracy: 0.1169 - loss: 2.6975 - val_accuracy: 0.1474 - val_loss: 2.7808 - learning_rate: 0.0010\n",
      "Epoch 38/1500\n",
      "\u001b[1m95/95\u001b[0m \u001b[32m━━━━━━━━━━━━━━━━━━━━\u001b[0m\u001b[37m\u001b[0m \u001b[1m0s\u001b[0m 402ms/step - accuracy: 0.1225 - loss: 2.6898\n",
      "Epoch 38: saving model to /kaggle/working/training_checkpoints2/cp-0038.weights.h5\n",
      "\u001b[1m95/95\u001b[0m \u001b[32m━━━━━━━━━━━━━━━━━━━━\u001b[0m\u001b[37m\u001b[0m \u001b[1m42s\u001b[0m 437ms/step - accuracy: 0.1227 - loss: 2.6896 - val_accuracy: 0.1368 - val_loss: 2.7641 - learning_rate: 0.0010\n",
      "Epoch 39/1500\n",
      "\u001b[1m95/95\u001b[0m \u001b[32m━━━━━━━━━━━━━━━━━━━━\u001b[0m\u001b[37m\u001b[0m \u001b[1m0s\u001b[0m 401ms/step - accuracy: 0.1195 - loss: 2.6924\n",
      "Epoch 39: saving model to /kaggle/working/training_checkpoints2/cp-0039.weights.h5\n",
      "\u001b[1m95/95\u001b[0m \u001b[32m━━━━━━━━━━━━━━━━━━━━\u001b[0m\u001b[37m\u001b[0m \u001b[1m41s\u001b[0m 436ms/step - accuracy: 0.1197 - loss: 2.6924 - val_accuracy: 0.1368 - val_loss: 2.7709 - learning_rate: 0.0010\n",
      "Epoch 40/1500\n",
      "\u001b[1m95/95\u001b[0m \u001b[32m━━━━━━━━━━━━━━━━━━━━\u001b[0m\u001b[37m\u001b[0m \u001b[1m0s\u001b[0m 401ms/step - accuracy: 0.1232 - loss: 2.6813\n",
      "Epoch 40: saving model to /kaggle/working/training_checkpoints2/cp-0040.weights.h5\n",
      "\u001b[1m95/95\u001b[0m \u001b[32m━━━━━━━━━━━━━━━━━━━━\u001b[0m\u001b[37m\u001b[0m \u001b[1m42s\u001b[0m 436ms/step - accuracy: 0.1234 - loss: 2.6812 - val_accuracy: 0.1368 - val_loss: 2.7860 - learning_rate: 0.0010\n",
      "Epoch 41/1500\n",
      "\u001b[1m95/95\u001b[0m \u001b[32m━━━━━━━━━━━━━━━━━━━━\u001b[0m\u001b[37m\u001b[0m \u001b[1m0s\u001b[0m 401ms/step - accuracy: 0.1201 - loss: 2.6733\n",
      "Epoch 41: saving model to /kaggle/working/training_checkpoints2/cp-0041.weights.h5\n",
      "\u001b[1m95/95\u001b[0m \u001b[32m━━━━━━━━━━━━━━━━━━━━\u001b[0m\u001b[37m\u001b[0m \u001b[1m41s\u001b[0m 435ms/step - accuracy: 0.1203 - loss: 2.6733 - val_accuracy: 0.1474 - val_loss: 2.7693 - learning_rate: 0.0010\n",
      "Epoch 42/1500\n",
      "\u001b[1m95/95\u001b[0m \u001b[32m━━━━━━━━━━━━━━━━━━━━\u001b[0m\u001b[37m\u001b[0m \u001b[1m0s\u001b[0m 403ms/step - accuracy: 0.1201 - loss: 2.6672\n",
      "Epoch 42: saving model to /kaggle/working/training_checkpoints2/cp-0042.weights.h5\n",
      "\u001b[1m95/95\u001b[0m \u001b[32m━━━━━━━━━━━━━━━━━━━━\u001b[0m\u001b[37m\u001b[0m \u001b[1m42s\u001b[0m 438ms/step - accuracy: 0.1204 - loss: 2.6671 - val_accuracy: 0.1474 - val_loss: 2.7829 - learning_rate: 0.0010\n",
      "Epoch 43/1500\n",
      "\u001b[1m95/95\u001b[0m \u001b[32m━━━━━━━━━━━━━━━━━━━━\u001b[0m\u001b[37m\u001b[0m \u001b[1m0s\u001b[0m 403ms/step - accuracy: 0.1258 - loss: 2.6717\n",
      "Epoch 43: saving model to /kaggle/working/training_checkpoints2/cp-0043.weights.h5\n",
      "\u001b[1m95/95\u001b[0m \u001b[32m━━━━━━━━━━━━━━━━━━━━\u001b[0m\u001b[37m\u001b[0m \u001b[1m42s\u001b[0m 439ms/step - accuracy: 0.1260 - loss: 2.6716 - val_accuracy: 0.1368 - val_loss: 2.7588 - learning_rate: 0.0010\n",
      "Epoch 44/1500\n",
      "\u001b[1m95/95\u001b[0m \u001b[32m━━━━━━━━━━━━━━━━━━━━\u001b[0m\u001b[37m\u001b[0m \u001b[1m0s\u001b[0m 403ms/step - accuracy: 0.1220 - loss: 2.6613\n",
      "Epoch 44: saving model to /kaggle/working/training_checkpoints2/cp-0044.weights.h5\n",
      "\u001b[1m95/95\u001b[0m \u001b[32m━━━━━━━━━━━━━━━━━━━━\u001b[0m\u001b[37m\u001b[0m \u001b[1m42s\u001b[0m 438ms/step - accuracy: 0.1222 - loss: 2.6613 - val_accuracy: 0.1474 - val_loss: 2.7816 - learning_rate: 0.0010\n",
      "Epoch 45/1500\n",
      "\u001b[1m95/95\u001b[0m \u001b[32m━━━━━━━━━━━━━━━━━━━━\u001b[0m\u001b[37m\u001b[0m \u001b[1m0s\u001b[0m 405ms/step - accuracy: 0.1312 - loss: 2.6505\n",
      "Epoch 45: saving model to /kaggle/working/training_checkpoints2/cp-0045.weights.h5\n",
      "\u001b[1m95/95\u001b[0m \u001b[32m━━━━━━━━━━━━━━━━━━━━\u001b[0m\u001b[37m\u001b[0m \u001b[1m42s\u001b[0m 441ms/step - accuracy: 0.1313 - loss: 2.6505 - val_accuracy: 0.1474 - val_loss: 2.7614 - learning_rate: 0.0010\n",
      "Epoch 46/1500\n",
      "\u001b[1m95/95\u001b[0m \u001b[32m━━━━━━━━━━━━━━━━━━━━\u001b[0m\u001b[37m\u001b[0m \u001b[1m0s\u001b[0m 399ms/step - accuracy: 0.1356 - loss: 2.6493\n",
      "Epoch 46: saving model to /kaggle/working/training_checkpoints2/cp-0046.weights.h5\n",
      "\u001b[1m95/95\u001b[0m \u001b[32m━━━━━━━━━━━━━━━━━━━━\u001b[0m\u001b[37m\u001b[0m \u001b[1m41s\u001b[0m 433ms/step - accuracy: 0.1358 - loss: 2.6492 - val_accuracy: 0.1368 - val_loss: 2.7274 - learning_rate: 0.0010\n",
      "Epoch 47/1500\n",
      "\u001b[1m95/95\u001b[0m \u001b[32m━━━━━━━━━━━━━━━━━━━━\u001b[0m\u001b[37m\u001b[0m \u001b[1m0s\u001b[0m 406ms/step - accuracy: 0.1320 - loss: 2.6437\n",
      "Epoch 47: saving model to /kaggle/working/training_checkpoints2/cp-0047.weights.h5\n",
      "\u001b[1m95/95\u001b[0m \u001b[32m━━━━━━━━━━━━━━━━━━━━\u001b[0m\u001b[37m\u001b[0m \u001b[1m42s\u001b[0m 442ms/step - accuracy: 0.1323 - loss: 2.6437 - val_accuracy: 0.1263 - val_loss: 2.7380 - learning_rate: 0.0010\n",
      "Epoch 48/1500\n",
      "\u001b[1m95/95\u001b[0m \u001b[32m━━━━━━━━━━━━━━━━━━━━\u001b[0m\u001b[37m\u001b[0m \u001b[1m0s\u001b[0m 401ms/step - accuracy: 0.1370 - loss: 2.6358\n",
      "Epoch 48: saving model to /kaggle/working/training_checkpoints2/cp-0048.weights.h5\n",
      "\u001b[1m95/95\u001b[0m \u001b[32m━━━━━━━━━━━━━━━━━━━━\u001b[0m\u001b[37m\u001b[0m \u001b[1m42s\u001b[0m 435ms/step - accuracy: 0.1372 - loss: 2.6357 - val_accuracy: 0.1263 - val_loss: 2.7357 - learning_rate: 0.0010\n",
      "Epoch 49/1500\n",
      "\u001b[1m95/95\u001b[0m \u001b[32m━━━━━━━━━━━━━━━━━━━━\u001b[0m\u001b[37m\u001b[0m \u001b[1m0s\u001b[0m 402ms/step - accuracy: 0.1481 - loss: 2.6394\n",
      "Epoch 49: saving model to /kaggle/working/training_checkpoints2/cp-0049.weights.h5\n",
      "\u001b[1m95/95\u001b[0m \u001b[32m━━━━━━━━━━━━━━━━━━━━\u001b[0m\u001b[37m\u001b[0m \u001b[1m41s\u001b[0m 435ms/step - accuracy: 0.1483 - loss: 2.6393 - val_accuracy: 0.1263 - val_loss: 2.7563 - learning_rate: 0.0010\n",
      "Epoch 50/1500\n",
      "\u001b[1m95/95\u001b[0m \u001b[32m━━━━━━━━━━━━━━━━━━━━\u001b[0m\u001b[37m\u001b[0m \u001b[1m0s\u001b[0m 402ms/step - accuracy: 0.1417 - loss: 2.6362\n",
      "Epoch 50: saving model to /kaggle/working/training_checkpoints2/cp-0050.weights.h5\n",
      "\u001b[1m95/95\u001b[0m \u001b[32m━━━━━━━━━━━━━━━━━━━━\u001b[0m\u001b[37m\u001b[0m \u001b[1m42s\u001b[0m 437ms/step - accuracy: 0.1419 - loss: 2.6364 - val_accuracy: 0.1474 - val_loss: 2.7301 - learning_rate: 0.0010\n",
      "Epoch 51/1500\n",
      "\u001b[1m95/95\u001b[0m \u001b[32m━━━━━━━━━━━━━━━━━━━━\u001b[0m\u001b[37m\u001b[0m \u001b[1m0s\u001b[0m 403ms/step - accuracy: 0.1545 - loss: 2.6227\n",
      "Epoch 51: saving model to /kaggle/working/training_checkpoints2/cp-0051.weights.h5\n",
      "\u001b[1m95/95\u001b[0m \u001b[32m━━━━━━━━━━━━━━━━━━━━\u001b[0m\u001b[37m\u001b[0m \u001b[1m42s\u001b[0m 438ms/step - accuracy: 0.1547 - loss: 2.6226 - val_accuracy: 0.1368 - val_loss: 2.7119 - learning_rate: 0.0010\n",
      "Epoch 52/1500\n",
      "\u001b[1m95/95\u001b[0m \u001b[32m━━━━━━━━━━━━━━━━━━━━\u001b[0m\u001b[37m\u001b[0m \u001b[1m0s\u001b[0m 402ms/step - accuracy: 0.1592 - loss: 2.6142\n",
      "Epoch 52: saving model to /kaggle/working/training_checkpoints2/cp-0052.weights.h5\n",
      "\u001b[1m95/95\u001b[0m \u001b[32m━━━━━━━━━━━━━━━━━━━━\u001b[0m\u001b[37m\u001b[0m \u001b[1m42s\u001b[0m 437ms/step - accuracy: 0.1593 - loss: 2.6141 - val_accuracy: 0.1368 - val_loss: 2.7126 - learning_rate: 0.0010\n",
      "Epoch 53/1500\n",
      "\u001b[1m95/95\u001b[0m \u001b[32m━━━━━━━━━━━━━━━━━━━━\u001b[0m\u001b[37m\u001b[0m \u001b[1m0s\u001b[0m 409ms/step - accuracy: 0.1537 - loss: 2.6084\n",
      "Epoch 53: saving model to /kaggle/working/training_checkpoints2/cp-0053.weights.h5\n",
      "\u001b[1m95/95\u001b[0m \u001b[32m━━━━━━━━━━━━━━━━━━━━\u001b[0m\u001b[37m\u001b[0m \u001b[1m42s\u001b[0m 445ms/step - accuracy: 0.1538 - loss: 2.6084 - val_accuracy: 0.1158 - val_loss: 2.7399 - learning_rate: 0.0010\n",
      "Epoch 54/1500\n",
      "\u001b[1m95/95\u001b[0m \u001b[32m━━━━━━━━━━━━━━━━━━━━\u001b[0m\u001b[37m\u001b[0m \u001b[1m0s\u001b[0m 397ms/step - accuracy: 0.1619 - loss: 2.6093\n",
      "Epoch 54: saving model to /kaggle/working/training_checkpoints2/cp-0054.weights.h5\n",
      "\u001b[1m95/95\u001b[0m \u001b[32m━━━━━━━━━━━━━━━━━━━━\u001b[0m\u001b[37m\u001b[0m \u001b[1m41s\u001b[0m 431ms/step - accuracy: 0.1620 - loss: 2.6093 - val_accuracy: 0.1053 - val_loss: 2.7473 - learning_rate: 0.0010\n",
      "Epoch 55/1500\n",
      "\u001b[1m95/95\u001b[0m \u001b[32m━━━━━━━━━━━━━━━━━━━━\u001b[0m\u001b[37m\u001b[0m \u001b[1m0s\u001b[0m 400ms/step - accuracy: 0.1646 - loss: 2.6050\n",
      "Epoch 55: saving model to /kaggle/working/training_checkpoints2/cp-0055.weights.h5\n",
      "\u001b[1m95/95\u001b[0m \u001b[32m━━━━━━━━━━━━━━━━━━━━\u001b[0m\u001b[37m\u001b[0m \u001b[1m41s\u001b[0m 434ms/step - accuracy: 0.1648 - loss: 2.6050 - val_accuracy: 0.1263 - val_loss: 2.7229 - learning_rate: 0.0010\n",
      "Epoch 56/1500\n",
      "\u001b[1m95/95\u001b[0m \u001b[32m━━━━━━━━━━━━━━━━━━━━\u001b[0m\u001b[37m\u001b[0m \u001b[1m0s\u001b[0m 403ms/step - accuracy: 0.1612 - loss: 2.6042\n",
      "Epoch 56: saving model to /kaggle/working/training_checkpoints2/cp-0056.weights.h5\n",
      "\u001b[1m95/95\u001b[0m \u001b[32m━━━━━━━━━━━━━━━━━━━━\u001b[0m\u001b[37m\u001b[0m \u001b[1m42s\u001b[0m 438ms/step - accuracy: 0.1613 - loss: 2.6041 - val_accuracy: 0.1263 - val_loss: 2.7130 - learning_rate: 0.0010\n",
      "Epoch 57/1500\n",
      "\u001b[1m95/95\u001b[0m \u001b[32m━━━━━━━━━━━━━━━━━━━━\u001b[0m\u001b[37m\u001b[0m \u001b[1m0s\u001b[0m 401ms/step - accuracy: 0.1666 - loss: 2.6039\n",
      "Epoch 57: saving model to /kaggle/working/training_checkpoints2/cp-0057.weights.h5\n",
      "\u001b[1m95/95\u001b[0m \u001b[32m━━━━━━━━━━━━━━━━━━━━\u001b[0m\u001b[37m\u001b[0m \u001b[1m42s\u001b[0m 436ms/step - accuracy: 0.1667 - loss: 2.6039 - val_accuracy: 0.1368 - val_loss: 2.7174 - learning_rate: 0.0010\n",
      "Epoch 58/1500\n",
      "\u001b[1m95/95\u001b[0m \u001b[32m━━━━━━━━━━━━━━━━━━━━\u001b[0m\u001b[37m\u001b[0m \u001b[1m0s\u001b[0m 403ms/step - accuracy: 0.1590 - loss: 2.5949\n",
      "Epoch 58: saving model to /kaggle/working/training_checkpoints2/cp-0058.weights.h5\n",
      "\u001b[1m95/95\u001b[0m \u001b[32m━━━━━━━━━━━━━━━━━━━━\u001b[0m\u001b[37m\u001b[0m \u001b[1m41s\u001b[0m 436ms/step - accuracy: 0.1593 - loss: 2.5949 - val_accuracy: 0.1368 - val_loss: 2.7167 - learning_rate: 0.0010\n",
      "Epoch 59/1500\n",
      "\u001b[1m95/95\u001b[0m \u001b[32m━━━━━━━━━━━━━━━━━━━━\u001b[0m\u001b[37m\u001b[0m \u001b[1m0s\u001b[0m 402ms/step - accuracy: 0.1755 - loss: 2.5898\n",
      "Epoch 59: saving model to /kaggle/working/training_checkpoints2/cp-0059.weights.h5\n",
      "\u001b[1m95/95\u001b[0m \u001b[32m━━━━━━━━━━━━━━━━━━━━\u001b[0m\u001b[37m\u001b[0m \u001b[1m42s\u001b[0m 437ms/step - accuracy: 0.1756 - loss: 2.5897 - val_accuracy: 0.1263 - val_loss: 2.6950 - learning_rate: 0.0010\n",
      "Epoch 60/1500\n",
      "\u001b[1m95/95\u001b[0m \u001b[32m━━━━━━━━━━━━━━━━━━━━\u001b[0m\u001b[37m\u001b[0m \u001b[1m0s\u001b[0m 398ms/step - accuracy: 0.1728 - loss: 2.5887\n",
      "Epoch 60: saving model to /kaggle/working/training_checkpoints2/cp-0060.weights.h5\n",
      "\u001b[1m95/95\u001b[0m \u001b[32m━━━━━━━━━━━━━━━━━━━━\u001b[0m\u001b[37m\u001b[0m \u001b[1m41s\u001b[0m 433ms/step - accuracy: 0.1728 - loss: 2.5888 - val_accuracy: 0.1368 - val_loss: 2.7099 - learning_rate: 0.0010\n",
      "Epoch 61/1500\n",
      "\u001b[1m95/95\u001b[0m \u001b[32m━━━━━━━━━━━━━━━━━━━━\u001b[0m\u001b[37m\u001b[0m \u001b[1m0s\u001b[0m 403ms/step - accuracy: 0.1767 - loss: 2.5810\n",
      "Epoch 61: saving model to /kaggle/working/training_checkpoints2/cp-0061.weights.h5\n",
      "\u001b[1m95/95\u001b[0m \u001b[32m━━━━━━━━━━━━━━━━━━━━\u001b[0m\u001b[37m\u001b[0m \u001b[1m42s\u001b[0m 438ms/step - accuracy: 0.1769 - loss: 2.5810 - val_accuracy: 0.1368 - val_loss: 2.6810 - learning_rate: 0.0010\n",
      "Epoch 62/1500\n",
      "\u001b[1m95/95\u001b[0m \u001b[32m━━━━━━━━━━━━━━━━━━━━\u001b[0m\u001b[37m\u001b[0m \u001b[1m0s\u001b[0m 401ms/step - accuracy: 0.1777 - loss: 2.5750\n",
      "Epoch 62: saving model to /kaggle/working/training_checkpoints2/cp-0062.weights.h5\n",
      "\u001b[1m95/95\u001b[0m \u001b[32m━━━━━━━━━━━━━━━━━━━━\u001b[0m\u001b[37m\u001b[0m \u001b[1m42s\u001b[0m 436ms/step - accuracy: 0.1779 - loss: 2.5749 - val_accuracy: 0.1263 - val_loss: 2.7019 - learning_rate: 0.0010\n",
      "Epoch 63/1500\n",
      "\u001b[1m95/95\u001b[0m \u001b[32m━━━━━━━━━━━━━━━━━━━━\u001b[0m\u001b[37m\u001b[0m \u001b[1m0s\u001b[0m 407ms/step - accuracy: 0.1928 - loss: 2.5755\n",
      "Epoch 63: saving model to /kaggle/working/training_checkpoints2/cp-0063.weights.h5\n",
      "\u001b[1m95/95\u001b[0m \u001b[32m━━━━━━━━━━━━━━━━━━━━\u001b[0m\u001b[37m\u001b[0m \u001b[1m42s\u001b[0m 441ms/step - accuracy: 0.1929 - loss: 2.5753 - val_accuracy: 0.1895 - val_loss: 2.6732 - learning_rate: 0.0010\n",
      "Epoch 64/1500\n",
      "\u001b[1m95/95\u001b[0m \u001b[32m━━━━━━━━━━━━━━━━━━━━\u001b[0m\u001b[37m\u001b[0m \u001b[1m0s\u001b[0m 406ms/step - accuracy: 0.1843 - loss: 2.5727\n",
      "Epoch 64: saving model to /kaggle/working/training_checkpoints2/cp-0064.weights.h5\n",
      "\u001b[1m95/95\u001b[0m \u001b[32m━━━━━━━━━━━━━━━━━━━━\u001b[0m\u001b[37m\u001b[0m \u001b[1m42s\u001b[0m 440ms/step - accuracy: 0.1844 - loss: 2.5726 - val_accuracy: 0.1579 - val_loss: 2.6733 - learning_rate: 0.0010\n",
      "Epoch 65/1500\n",
      "\u001b[1m95/95\u001b[0m \u001b[32m━━━━━━━━━━━━━━━━━━━━\u001b[0m\u001b[37m\u001b[0m \u001b[1m0s\u001b[0m 407ms/step - accuracy: 0.1876 - loss: 2.5590\n",
      "Epoch 65: saving model to /kaggle/working/training_checkpoints2/cp-0065.weights.h5\n",
      "\u001b[1m95/95\u001b[0m \u001b[32m━━━━━━━━━━━━━━━━━━━━\u001b[0m\u001b[37m\u001b[0m \u001b[1m42s\u001b[0m 442ms/step - accuracy: 0.1877 - loss: 2.5589 - val_accuracy: 0.2000 - val_loss: 2.6667 - learning_rate: 0.0010\n",
      "Epoch 66/1500\n",
      "\u001b[1m95/95\u001b[0m \u001b[32m━━━━━━━━━━━━━━━━━━━━\u001b[0m\u001b[37m\u001b[0m \u001b[1m0s\u001b[0m 401ms/step - accuracy: 0.1756 - loss: 2.5582\n",
      "Epoch 66: saving model to /kaggle/working/training_checkpoints2/cp-0066.weights.h5\n",
      "\u001b[1m95/95\u001b[0m \u001b[32m━━━━━━━━━━━━━━━━━━━━\u001b[0m\u001b[37m\u001b[0m \u001b[1m41s\u001b[0m 435ms/step - accuracy: 0.1757 - loss: 2.5582 - val_accuracy: 0.1474 - val_loss: 2.6984 - learning_rate: 0.0010\n",
      "Epoch 67/1500\n",
      "\u001b[1m95/95\u001b[0m \u001b[32m━━━━━━━━━━━━━━━━━━━━\u001b[0m\u001b[37m\u001b[0m \u001b[1m0s\u001b[0m 403ms/step - accuracy: 0.1835 - loss: 2.5545\n",
      "Epoch 67: saving model to /kaggle/working/training_checkpoints2/cp-0067.weights.h5\n",
      "\u001b[1m95/95\u001b[0m \u001b[32m━━━━━━━━━━━━━━━━━━━━\u001b[0m\u001b[37m\u001b[0m \u001b[1m42s\u001b[0m 438ms/step - accuracy: 0.1836 - loss: 2.5545 - val_accuracy: 0.2211 - val_loss: 2.6651 - learning_rate: 0.0010\n",
      "Epoch 68/1500\n",
      "\u001b[1m95/95\u001b[0m \u001b[32m━━━━━━━━━━━━━━━━━━━━\u001b[0m\u001b[37m\u001b[0m \u001b[1m0s\u001b[0m 405ms/step - accuracy: 0.1824 - loss: 2.5418\n",
      "Epoch 68: saving model to /kaggle/working/training_checkpoints2/cp-0068.weights.h5\n",
      "\u001b[1m95/95\u001b[0m \u001b[32m━━━━━━━━━━━━━━━━━━━━\u001b[0m\u001b[37m\u001b[0m \u001b[1m42s\u001b[0m 439ms/step - accuracy: 0.1825 - loss: 2.5418 - val_accuracy: 0.1789 - val_loss: 2.8788 - learning_rate: 0.0010\n",
      "Epoch 69/1500\n",
      "\u001b[1m95/95\u001b[0m \u001b[32m━━━━━━━━━━━━━━━━━━━━\u001b[0m\u001b[37m\u001b[0m \u001b[1m0s\u001b[0m 405ms/step - accuracy: 0.1707 - loss: 2.5652\n",
      "Epoch 69: saving model to /kaggle/working/training_checkpoints2/cp-0069.weights.h5\n",
      "\u001b[1m95/95\u001b[0m \u001b[32m━━━━━━━━━━━━━━━━━━━━\u001b[0m\u001b[37m\u001b[0m \u001b[1m42s\u001b[0m 440ms/step - accuracy: 0.1709 - loss: 2.5652 - val_accuracy: 0.1263 - val_loss: 2.7040 - learning_rate: 0.0010\n",
      "Epoch 70/1500\n",
      "\u001b[1m95/95\u001b[0m \u001b[32m━━━━━━━━━━━━━━━━━━━━\u001b[0m\u001b[37m\u001b[0m \u001b[1m0s\u001b[0m 405ms/step - accuracy: 0.1905 - loss: 2.5404\n",
      "Epoch 70: saving model to /kaggle/working/training_checkpoints2/cp-0070.weights.h5\n",
      "\u001b[1m95/95\u001b[0m \u001b[32m━━━━━━━━━━━━━━━━━━━━\u001b[0m\u001b[37m\u001b[0m \u001b[1m42s\u001b[0m 440ms/step - accuracy: 0.1906 - loss: 2.5404 - val_accuracy: 0.1684 - val_loss: 2.6664 - learning_rate: 0.0010\n",
      "Epoch 71/1500\n",
      "\u001b[1m95/95\u001b[0m \u001b[32m━━━━━━━━━━━━━━━━━━━━\u001b[0m\u001b[37m\u001b[0m \u001b[1m0s\u001b[0m 406ms/step - accuracy: 0.1950 - loss: 2.5314\n",
      "Epoch 71: saving model to /kaggle/working/training_checkpoints2/cp-0071.weights.h5\n",
      "\u001b[1m95/95\u001b[0m \u001b[32m━━━━━━━━━━━━━━━━━━━━\u001b[0m\u001b[37m\u001b[0m \u001b[1m42s\u001b[0m 441ms/step - accuracy: 0.1951 - loss: 2.5315 - val_accuracy: 0.2000 - val_loss: 2.6429 - learning_rate: 0.0010\n",
      "Epoch 72/1500\n",
      "\u001b[1m95/95\u001b[0m \u001b[32m━━━━━━━━━━━━━━━━━━━━\u001b[0m\u001b[37m\u001b[0m \u001b[1m0s\u001b[0m 401ms/step - accuracy: 0.1920 - loss: 2.5227\n",
      "Epoch 72: saving model to /kaggle/working/training_checkpoints2/cp-0072.weights.h5\n",
      "\u001b[1m95/95\u001b[0m \u001b[32m━━━━━━━━━━━━━━━━━━━━\u001b[0m\u001b[37m\u001b[0m \u001b[1m42s\u001b[0m 436ms/step - accuracy: 0.1921 - loss: 2.5227 - val_accuracy: 0.1684 - val_loss: 2.6609 - learning_rate: 0.0010\n",
      "Epoch 73/1500\n",
      "\u001b[1m95/95\u001b[0m \u001b[32m━━━━━━━━━━━━━━━━━━━━\u001b[0m\u001b[37m\u001b[0m \u001b[1m0s\u001b[0m 404ms/step - accuracy: 0.1955 - loss: 2.5201\n",
      "Epoch 73: saving model to /kaggle/working/training_checkpoints2/cp-0073.weights.h5\n",
      "\u001b[1m95/95\u001b[0m \u001b[32m━━━━━━━━━━━━━━━━━━━━\u001b[0m\u001b[37m\u001b[0m \u001b[1m42s\u001b[0m 439ms/step - accuracy: 0.1955 - loss: 2.5201 - val_accuracy: 0.1579 - val_loss: 2.6717 - learning_rate: 0.0010\n",
      "Epoch 74/1500\n",
      "\u001b[1m95/95\u001b[0m \u001b[32m━━━━━━━━━━━━━━━━━━━━\u001b[0m\u001b[37m\u001b[0m \u001b[1m0s\u001b[0m 402ms/step - accuracy: 0.2053 - loss: 2.5197\n",
      "Epoch 74: saving model to /kaggle/working/training_checkpoints2/cp-0074.weights.h5\n",
      "\u001b[1m95/95\u001b[0m \u001b[32m━━━━━━━━━━━━━━━━━━━━\u001b[0m\u001b[37m\u001b[0m \u001b[1m42s\u001b[0m 436ms/step - accuracy: 0.2054 - loss: 2.5197 - val_accuracy: 0.1895 - val_loss: 2.7482 - learning_rate: 0.0010\n",
      "Epoch 75/1500\n",
      "\u001b[1m95/95\u001b[0m \u001b[32m━━━━━━━━━━━━━━━━━━━━\u001b[0m\u001b[37m\u001b[0m \u001b[1m0s\u001b[0m 401ms/step - accuracy: 0.1952 - loss: 2.5172\n",
      "Epoch 75: saving model to /kaggle/working/training_checkpoints2/cp-0075.weights.h5\n",
      "\u001b[1m95/95\u001b[0m \u001b[32m━━━━━━━━━━━━━━━━━━━━\u001b[0m\u001b[37m\u001b[0m \u001b[1m41s\u001b[0m 434ms/step - accuracy: 0.1952 - loss: 2.5174 - val_accuracy: 0.1789 - val_loss: 2.8641 - learning_rate: 0.0010\n",
      "Epoch 76/1500\n",
      "\u001b[1m95/95\u001b[0m \u001b[32m━━━━━━━━━━━━━━━━━━━━\u001b[0m\u001b[37m\u001b[0m \u001b[1m0s\u001b[0m 402ms/step - accuracy: 0.1943 - loss: 2.4987\n",
      "Epoch 76: saving model to /kaggle/working/training_checkpoints2/cp-0076.weights.h5\n",
      "\u001b[1m95/95\u001b[0m \u001b[32m━━━━━━━━━━━━━━━━━━━━\u001b[0m\u001b[37m\u001b[0m \u001b[1m41s\u001b[0m 435ms/step - accuracy: 0.1944 - loss: 2.4986 - val_accuracy: 0.1474 - val_loss: 2.6671 - learning_rate: 0.0010\n",
      "Epoch 77/1500\n",
      "\u001b[1m95/95\u001b[0m \u001b[32m━━━━━━━━━━━━━━━━━━━━\u001b[0m\u001b[37m\u001b[0m \u001b[1m0s\u001b[0m 403ms/step - accuracy: 0.1908 - loss: 2.4941\n",
      "Epoch 77: saving model to /kaggle/working/training_checkpoints2/cp-0077.weights.h5\n",
      "\u001b[1m95/95\u001b[0m \u001b[32m━━━━━━━━━━━━━━━━━━━━\u001b[0m\u001b[37m\u001b[0m \u001b[1m42s\u001b[0m 437ms/step - accuracy: 0.1911 - loss: 2.4940 - val_accuracy: 0.1474 - val_loss: 2.7150 - learning_rate: 0.0010\n",
      "Epoch 78/1500\n",
      "\u001b[1m95/95\u001b[0m \u001b[32m━━━━━━━━━━━━━━━━━━━━\u001b[0m\u001b[37m\u001b[0m \u001b[1m0s\u001b[0m 404ms/step - accuracy: 0.2079 - loss: 2.4918\n",
      "Epoch 78: saving model to /kaggle/working/training_checkpoints2/cp-0078.weights.h5\n",
      "\u001b[1m95/95\u001b[0m \u001b[32m━━━━━━━━━━━━━━━━━━━━\u001b[0m\u001b[37m\u001b[0m \u001b[1m42s\u001b[0m 437ms/step - accuracy: 0.2080 - loss: 2.4918 - val_accuracy: 0.1789 - val_loss: 2.6736 - learning_rate: 0.0010\n",
      "Epoch 79/1500\n",
      "\u001b[1m95/95\u001b[0m \u001b[32m━━━━━━━━━━━━━━━━━━━━\u001b[0m\u001b[37m\u001b[0m \u001b[1m0s\u001b[0m 403ms/step - accuracy: 0.2053 - loss: 2.4772\n",
      "Epoch 79: saving model to /kaggle/working/training_checkpoints2/cp-0079.weights.h5\n",
      "\u001b[1m95/95\u001b[0m \u001b[32m━━━━━━━━━━━━━━━━━━━━\u001b[0m\u001b[37m\u001b[0m \u001b[1m42s\u001b[0m 438ms/step - accuracy: 0.2055 - loss: 2.4771 - val_accuracy: 0.1474 - val_loss: 2.6830 - learning_rate: 0.0010\n",
      "Epoch 80/1500\n",
      "\u001b[1m95/95\u001b[0m \u001b[32m━━━━━━━━━━━━━━━━━━━━\u001b[0m\u001b[37m\u001b[0m \u001b[1m0s\u001b[0m 399ms/step - accuracy: 0.2070 - loss: 2.4720\n",
      "Epoch 80: saving model to /kaggle/working/training_checkpoints2/cp-0080.weights.h5\n",
      "\u001b[1m95/95\u001b[0m \u001b[32m━━━━━━━━━━━━━━━━━━━━\u001b[0m\u001b[37m\u001b[0m \u001b[1m41s\u001b[0m 431ms/step - accuracy: 0.2071 - loss: 2.4719 - val_accuracy: 0.1684 - val_loss: 2.6989 - learning_rate: 0.0010\n",
      "Epoch 81/1500\n",
      "\u001b[1m95/95\u001b[0m \u001b[32m━━━━━━━━━━━━━━━━━━━━\u001b[0m\u001b[37m\u001b[0m \u001b[1m0s\u001b[0m 405ms/step - accuracy: 0.2013 - loss: 2.4680\n",
      "Epoch 81: saving model to /kaggle/working/training_checkpoints2/cp-0081.weights.h5\n",
      "\u001b[1m95/95\u001b[0m \u001b[32m━━━━━━━━━━━━━━━━━━━━\u001b[0m\u001b[37m\u001b[0m \u001b[1m42s\u001b[0m 440ms/step - accuracy: 0.2014 - loss: 2.4680 - val_accuracy: 0.1368 - val_loss: 2.7016 - learning_rate: 0.0010\n",
      "Epoch 82/1500\n",
      "\u001b[1m95/95\u001b[0m \u001b[32m━━━━━━━━━━━━━━━━━━━━\u001b[0m\u001b[37m\u001b[0m \u001b[1m0s\u001b[0m 404ms/step - accuracy: 0.2288 - loss: 2.4355\n",
      "Epoch 82: saving model to /kaggle/working/training_checkpoints2/cp-0082.weights.h5\n",
      "\u001b[1m95/95\u001b[0m \u001b[32m━━━━━━━━━━━━━━━━━━━━\u001b[0m\u001b[37m\u001b[0m \u001b[1m42s\u001b[0m 440ms/step - accuracy: 0.2290 - loss: 2.4351 - val_accuracy: 0.2105 - val_loss: 2.6185 - learning_rate: 1.0000e-04\n",
      "Epoch 83/1500\n",
      "\u001b[1m95/95\u001b[0m \u001b[32m━━━━━━━━━━━━━━━━━━━━\u001b[0m\u001b[37m\u001b[0m \u001b[1m0s\u001b[0m 399ms/step - accuracy: 0.2303 - loss: 2.4072\n",
      "Epoch 83: saving model to /kaggle/working/training_checkpoints2/cp-0083.weights.h5\n",
      "\u001b[1m95/95\u001b[0m \u001b[32m━━━━━━━━━━━━━━━━━━━━\u001b[0m\u001b[37m\u001b[0m \u001b[1m41s\u001b[0m 434ms/step - accuracy: 0.2305 - loss: 2.4069 - val_accuracy: 0.2000 - val_loss: 2.6206 - learning_rate: 1.0000e-04\n",
      "Epoch 84/1500\n",
      "\u001b[1m95/95\u001b[0m \u001b[32m━━━━━━━━━━━━━━━━━━━━\u001b[0m\u001b[37m\u001b[0m \u001b[1m0s\u001b[0m 404ms/step - accuracy: 0.2266 - loss: 2.3953\n",
      "Epoch 84: saving model to /kaggle/working/training_checkpoints2/cp-0084.weights.h5\n",
      "\u001b[1m95/95\u001b[0m \u001b[32m━━━━━━━━━━━━━━━━━━━━\u001b[0m\u001b[37m\u001b[0m \u001b[1m42s\u001b[0m 439ms/step - accuracy: 0.2267 - loss: 2.3951 - val_accuracy: 0.1895 - val_loss: 2.6254 - learning_rate: 1.0000e-04\n",
      "Epoch 85/1500\n",
      "\u001b[1m95/95\u001b[0m \u001b[32m━━━━━━━━━━━━━━━━━━━━\u001b[0m\u001b[37m\u001b[0m \u001b[1m0s\u001b[0m 402ms/step - accuracy: 0.2287 - loss: 2.3872\n",
      "Epoch 85: saving model to /kaggle/working/training_checkpoints2/cp-0085.weights.h5\n",
      "\u001b[1m95/95\u001b[0m \u001b[32m━━━━━━━━━━━━━━━━━━━━\u001b[0m\u001b[37m\u001b[0m \u001b[1m42s\u001b[0m 437ms/step - accuracy: 0.2288 - loss: 2.3869 - val_accuracy: 0.1895 - val_loss: 2.6301 - learning_rate: 1.0000e-04\n",
      "Epoch 86/1500\n",
      "\u001b[1m95/95\u001b[0m \u001b[32m━━━━━━━━━━━━━━━━━━━━\u001b[0m\u001b[37m\u001b[0m \u001b[1m0s\u001b[0m 402ms/step - accuracy: 0.2255 - loss: 2.3806\n",
      "Epoch 86: saving model to /kaggle/working/training_checkpoints2/cp-0086.weights.h5\n",
      "\u001b[1m95/95\u001b[0m \u001b[32m━━━━━━━━━━━━━━━━━━━━\u001b[0m\u001b[37m\u001b[0m \u001b[1m41s\u001b[0m 436ms/step - accuracy: 0.2256 - loss: 2.3803 - val_accuracy: 0.1895 - val_loss: 2.6334 - learning_rate: 1.0000e-04\n",
      "Epoch 87/1500\n",
      "\u001b[1m95/95\u001b[0m \u001b[32m━━━━━━━━━━━━━━━━━━━━\u001b[0m\u001b[37m\u001b[0m \u001b[1m0s\u001b[0m 402ms/step - accuracy: 0.2276 - loss: 2.3746\n",
      "Epoch 87: saving model to /kaggle/working/training_checkpoints2/cp-0087.weights.h5\n",
      "\u001b[1m95/95\u001b[0m \u001b[32m━━━━━━━━━━━━━━━━━━━━\u001b[0m\u001b[37m\u001b[0m \u001b[1m42s\u001b[0m 436ms/step - accuracy: 0.2277 - loss: 2.3743 - val_accuracy: 0.1895 - val_loss: 2.6314 - learning_rate: 1.0000e-04\n",
      "Epoch 88/1500\n",
      "\u001b[1m95/95\u001b[0m \u001b[32m━━━━━━━━━━━━━━━━━━━━\u001b[0m\u001b[37m\u001b[0m \u001b[1m0s\u001b[0m 403ms/step - accuracy: 0.2273 - loss: 2.3691\n",
      "Epoch 88: saving model to /kaggle/working/training_checkpoints2/cp-0088.weights.h5\n",
      "\u001b[1m95/95\u001b[0m \u001b[32m━━━━━━━━━━━━━━━━━━━━\u001b[0m\u001b[37m\u001b[0m \u001b[1m42s\u001b[0m 438ms/step - accuracy: 0.2274 - loss: 2.3688 - val_accuracy: 0.2105 - val_loss: 2.6290 - learning_rate: 1.0000e-04\n",
      "Epoch 89/1500\n",
      "\u001b[1m95/95\u001b[0m \u001b[32m━━━━━━━━━━━━━━━━━━━━\u001b[0m\u001b[37m\u001b[0m \u001b[1m0s\u001b[0m 402ms/step - accuracy: 0.2315 - loss: 2.3642\n",
      "Epoch 89: saving model to /kaggle/working/training_checkpoints2/cp-0089.weights.h5\n",
      "\u001b[1m95/95\u001b[0m \u001b[32m━━━━━━━━━━━━━━━━━━━━\u001b[0m\u001b[37m\u001b[0m \u001b[1m42s\u001b[0m 437ms/step - accuracy: 0.2316 - loss: 2.3639 - val_accuracy: 0.2105 - val_loss: 2.6280 - learning_rate: 1.0000e-04\n",
      "Epoch 90/1500\n",
      "\u001b[1m95/95\u001b[0m \u001b[32m━━━━━━━━━━━━━━━━━━━━\u001b[0m\u001b[37m\u001b[0m \u001b[1m0s\u001b[0m 404ms/step - accuracy: 0.2322 - loss: 2.3592\n",
      "Epoch 90: saving model to /kaggle/working/training_checkpoints2/cp-0090.weights.h5\n",
      "\u001b[1m95/95\u001b[0m \u001b[32m━━━━━━━━━━━━━━━━━━━━\u001b[0m\u001b[37m\u001b[0m \u001b[1m42s\u001b[0m 440ms/step - accuracy: 0.2323 - loss: 2.3590 - val_accuracy: 0.2211 - val_loss: 2.6276 - learning_rate: 1.0000e-04\n",
      "Epoch 91/1500\n",
      "\u001b[1m95/95\u001b[0m \u001b[32m━━━━━━━━━━━━━━━━━━━━\u001b[0m\u001b[37m\u001b[0m \u001b[1m0s\u001b[0m 404ms/step - accuracy: 0.2384 - loss: 2.3548\n",
      "Epoch 91: saving model to /kaggle/working/training_checkpoints2/cp-0091.weights.h5\n",
      "\u001b[1m95/95\u001b[0m \u001b[32m━━━━━━━━━━━━━━━━━━━━\u001b[0m\u001b[37m\u001b[0m \u001b[1m42s\u001b[0m 438ms/step - accuracy: 0.2384 - loss: 2.3546 - val_accuracy: 0.2105 - val_loss: 2.6264 - learning_rate: 1.0000e-04\n",
      "Epoch 92/1500\n",
      "\u001b[1m95/95\u001b[0m \u001b[32m━━━━━━━━━━━━━━━━━━━━\u001b[0m\u001b[37m\u001b[0m \u001b[1m0s\u001b[0m 406ms/step - accuracy: 0.2385 - loss: 2.3503\n",
      "Epoch 92: saving model to /kaggle/working/training_checkpoints2/cp-0092.weights.h5\n",
      "\u001b[1m95/95\u001b[0m \u001b[32m━━━━━━━━━━━━━━━━━━━━\u001b[0m\u001b[37m\u001b[0m \u001b[1m42s\u001b[0m 440ms/step - accuracy: 0.2385 - loss: 2.3501 - val_accuracy: 0.2105 - val_loss: 2.6250 - learning_rate: 1.0000e-04\n",
      "Epoch 93/1500\n",
      "\u001b[1m95/95\u001b[0m \u001b[32m━━━━━━━━━━━━━━━━━━━━\u001b[0m\u001b[37m\u001b[0m \u001b[1m0s\u001b[0m 398ms/step - accuracy: 0.2517 - loss: 2.3441\n",
      "Epoch 93: saving model to /kaggle/working/training_checkpoints2/cp-0093.weights.h5\n",
      "\u001b[1m95/95\u001b[0m \u001b[32m━━━━━━━━━━━━━━━━━━━━\u001b[0m\u001b[37m\u001b[0m \u001b[1m41s\u001b[0m 433ms/step - accuracy: 0.2518 - loss: 2.3438 - val_accuracy: 0.2211 - val_loss: 2.6243 - learning_rate: 1.0000e-05\n",
      "Epoch 94/1500\n",
      "\u001b[1m95/95\u001b[0m \u001b[32m━━━━━━━━━━━━━━━━━━━━\u001b[0m\u001b[37m\u001b[0m \u001b[1m0s\u001b[0m 401ms/step - accuracy: 0.2489 - loss: 2.3345\n",
      "Epoch 94: saving model to /kaggle/working/training_checkpoints2/cp-0094.weights.h5\n",
      "\u001b[1m95/95\u001b[0m \u001b[32m━━━━━━━━━━━━━━━━━━━━\u001b[0m\u001b[37m\u001b[0m \u001b[1m42s\u001b[0m 437ms/step - accuracy: 0.2490 - loss: 2.3342 - val_accuracy: 0.2211 - val_loss: 2.6245 - learning_rate: 1.0000e-05\n",
      "Epoch 95/1500\n",
      "\u001b[1m95/95\u001b[0m \u001b[32m━━━━━━━━━━━━━━━━━━━━\u001b[0m\u001b[37m\u001b[0m \u001b[1m0s\u001b[0m 404ms/step - accuracy: 0.2433 - loss: 2.3303\n",
      "Epoch 95: saving model to /kaggle/working/training_checkpoints2/cp-0095.weights.h5\n",
      "\u001b[1m95/95\u001b[0m \u001b[32m━━━━━━━━━━━━━━━━━━━━\u001b[0m\u001b[37m\u001b[0m \u001b[1m42s\u001b[0m 439ms/step - accuracy: 0.2435 - loss: 2.3301 - val_accuracy: 0.2211 - val_loss: 2.6249 - learning_rate: 1.0000e-05\n",
      "Epoch 96/1500\n",
      "\u001b[1m95/95\u001b[0m \u001b[32m━━━━━━━━━━━━━━━━━━━━\u001b[0m\u001b[37m\u001b[0m \u001b[1m0s\u001b[0m 405ms/step - accuracy: 0.2427 - loss: 2.3280\n",
      "Epoch 96: saving model to /kaggle/working/training_checkpoints2/cp-0096.weights.h5\n",
      "\u001b[1m95/95\u001b[0m \u001b[32m━━━━━━━━━━━━━━━━━━━━\u001b[0m\u001b[37m\u001b[0m \u001b[1m42s\u001b[0m 439ms/step - accuracy: 0.2429 - loss: 2.3279 - val_accuracy: 0.2211 - val_loss: 2.6251 - learning_rate: 1.0000e-05\n",
      "Epoch 97/1500\n",
      "\u001b[1m95/95\u001b[0m \u001b[32m━━━━━━━━━━━━━━━━━━━━\u001b[0m\u001b[37m\u001b[0m \u001b[1m0s\u001b[0m 396ms/step - accuracy: 0.2435 - loss: 2.3266\n",
      "Epoch 97: saving model to /kaggle/working/training_checkpoints2/cp-0097.weights.h5\n",
      "\u001b[1m95/95\u001b[0m \u001b[32m━━━━━━━━━━━━━━━━━━━━\u001b[0m\u001b[37m\u001b[0m \u001b[1m41s\u001b[0m 431ms/step - accuracy: 0.2436 - loss: 2.3264 - val_accuracy: 0.2421 - val_loss: 2.6253 - learning_rate: 1.0000e-05\n",
      "Epoch 98/1500\n",
      "\u001b[1m95/95\u001b[0m \u001b[32m━━━━━━━━━━━━━━━━━━━━\u001b[0m\u001b[37m\u001b[0m \u001b[1m0s\u001b[0m 400ms/step - accuracy: 0.2412 - loss: 2.3255\n",
      "Epoch 98: saving model to /kaggle/working/training_checkpoints2/cp-0098.weights.h5\n",
      "\u001b[1m95/95\u001b[0m \u001b[32m━━━━━━━━━━━━━━━━━━━━\u001b[0m\u001b[37m\u001b[0m \u001b[1m41s\u001b[0m 433ms/step - accuracy: 0.2414 - loss: 2.3253 - val_accuracy: 0.2421 - val_loss: 2.6254 - learning_rate: 1.0000e-05\n",
      "Epoch 99/1500\n",
      "\u001b[1m95/95\u001b[0m \u001b[32m━━━━━━━━━━━━━━━━━━━━\u001b[0m\u001b[37m\u001b[0m \u001b[1m0s\u001b[0m 404ms/step - accuracy: 0.2438 - loss: 2.3246\n",
      "Epoch 99: saving model to /kaggle/working/training_checkpoints2/cp-0099.weights.h5\n",
      "\u001b[1m95/95\u001b[0m \u001b[32m━━━━━━━━━━━━━━━━━━━━\u001b[0m\u001b[37m\u001b[0m \u001b[1m42s\u001b[0m 438ms/step - accuracy: 0.2440 - loss: 2.3244 - val_accuracy: 0.2421 - val_loss: 2.6255 - learning_rate: 1.0000e-05\n",
      "Epoch 100/1500\n",
      "\u001b[1m95/95\u001b[0m \u001b[32m━━━━━━━━━━━━━━━━━━━━\u001b[0m\u001b[37m\u001b[0m \u001b[1m0s\u001b[0m 405ms/step - accuracy: 0.2441 - loss: 2.3238\n",
      "Epoch 100: saving model to /kaggle/working/training_checkpoints2/cp-0100.weights.h5\n",
      "\u001b[1m95/95\u001b[0m \u001b[32m━━━━━━━━━━━━━━━━━━━━\u001b[0m\u001b[37m\u001b[0m \u001b[1m42s\u001b[0m 438ms/step - accuracy: 0.2443 - loss: 2.3236 - val_accuracy: 0.2421 - val_loss: 2.6256 - learning_rate: 1.0000e-05\n",
      "Epoch 101/1500\n",
      "\u001b[1m95/95\u001b[0m \u001b[32m━━━━━━━━━━━━━━━━━━━━\u001b[0m\u001b[37m\u001b[0m \u001b[1m0s\u001b[0m 405ms/step - accuracy: 0.2441 - loss: 2.3231\n",
      "Epoch 101: saving model to /kaggle/working/training_checkpoints2/cp-0101.weights.h5\n",
      "\u001b[1m95/95\u001b[0m \u001b[32m━━━━━━━━━━━━━━━━━━━━\u001b[0m\u001b[37m\u001b[0m \u001b[1m42s\u001b[0m 440ms/step - accuracy: 0.2443 - loss: 2.3230 - val_accuracy: 0.2421 - val_loss: 2.6256 - learning_rate: 1.0000e-05\n",
      "Epoch 102/1500\n",
      "\u001b[1m95/95\u001b[0m \u001b[32m━━━━━━━━━━━━━━━━━━━━\u001b[0m\u001b[37m\u001b[0m \u001b[1m0s\u001b[0m 400ms/step - accuracy: 0.2457 - loss: 2.3224\n",
      "Epoch 102: saving model to /kaggle/working/training_checkpoints2/cp-0102.weights.h5\n",
      "\u001b[1m95/95\u001b[0m \u001b[32m━━━━━━━━━━━━━━━━━━━━\u001b[0m\u001b[37m\u001b[0m \u001b[1m41s\u001b[0m 435ms/step - accuracy: 0.2458 - loss: 2.3223 - val_accuracy: 0.2421 - val_loss: 2.6257 - learning_rate: 1.0000e-05\n",
      "Epoch 102: early stopping\n",
      "Restoring model weights from the end of the best epoch: 82.\n"
     ]
    }
   ],
   "source": [
    "import tensorflow as tf\n",
    "from keras.layers import BatchNormalization\n",
    "from keras.callbacks import ReduceLROnPlateau, EarlyStopping, ModelCheckpoint, TensorBoard\n",
    "\n",
    "# Create a MirroredStrategy for distributed training\n",
    "strategy = tf.distribute.MirroredStrategy()\n",
    "\n",
    "print('Number of devices: {}'.format(strategy.num_replicas_in_sync))\n",
    "\n",
    "# Open a strategy scope to create and compile the model\n",
    "with strategy.scope():\n",
    "    \n",
    "    input_shape = (None, 10, HEIGHT, WIDTH, 3)\n",
    "    input = layers.Input(shape=(input_shape[1:]))\n",
    "\n",
    "    x = Conv2Plus1D(filters=16, kernel_size=(3, 7, 7), padding='same')(input)\n",
    "    x = BatchNormalization()(x)\n",
    "    x = layers.ReLU()(x)\n",
    "    x = ResizeVideo(HEIGHT // 2, WIDTH // 2)(x)\n",
    "\n",
    "    # Block 1\n",
    "    x = add_residual_block(x, 16, (3, 3, 3))\n",
    "    x = ResizeVideo(HEIGHT // 4, WIDTH // 4)(x)\n",
    "\n",
    "    # Block 2\n",
    "    x = add_residual_block(x, 32, (3, 3, 3))\n",
    "    x = ResizeVideo(HEIGHT // 8, WIDTH // 8)(x)\n",
    "\n",
    "    # Block 3\n",
    "    x = add_residual_block(x, 64, (3, 3, 3))\n",
    "    x = ResizeVideo(HEIGHT // 16, WIDTH // 16)(x)\n",
    "\n",
    "    # Block 4\n",
    "    x = add_residual_block(x, 128, (3, 3, 3))\n",
    "\n",
    "    x = layers.GlobalAveragePooling3D()(x)\n",
    "    x = layers.Flatten()(x)\n",
    "    output = layers.Dense(19, activation='softmax')(x)\n",
    "\n",
    "    model = keras.Model(input, output)\n",
    "    # Define and compile your model here  # Your model definition here\n",
    "    frames, label = next(iter(train_ds))\n",
    "    model.build(frames)\n",
    "    model.compile(\n",
    "        optimizer='adam',\n",
    "        loss='sparse_categorical_crossentropy',\n",
    "        metrics=['accuracy']\n",
    "    )\n",
    "\n",
    "    # Create a ModelCheckpoint callback\n",
    "    checkpoint_path = \"/kaggle/working/training_checkpoints2/cp-{epoch:04d}.weights.h5\"  # Path and format\n",
    "    checkpoint_callback = ModelCheckpoint(\n",
    "        filepath=checkpoint_path,\n",
    "        verbose=1,\n",
    "        save_weights_only=True,\n",
    "        save_freq='epoch',  # Save every epoch\n",
    "    )\n",
    "\n",
    "    # Create a ReduceLROnPlateau callback with min_lr\n",
    "    reduce_lr = ReduceLROnPlateau(\n",
    "        monitor='val_loss',\n",
    "        factor=0.1,\n",
    "        patience=10,\n",
    "        min_lr=1e-7  # Set the minimum learning rate\n",
    "    )\n",
    "\n",
    "    # Create a TensorBoard callback\n",
    "    tensorboard_callback = TensorBoard(\n",
    "        log_dir='./logs',\n",
    "        histogram_freq=1,\n",
    "        write_graph=True,\n",
    "        write_images=True,\n",
    "    )\n",
    "\n",
    "    # Create an EarlyStopping callback\n",
    "    early_stopping_callback = EarlyStopping(\n",
    "        monitor='val_loss',\n",
    "        patience=20,  # Number of epochs with no improvement after which training will be stopped\n",
    "        verbose=1,\n",
    "        restore_best_weights=True  # Restore model weights from the epoch with the best value of the monitored quantity\n",
    "    )\n",
    "\n",
    "    # Include the callbacks when training the model\n",
    "    history = model.fit(\n",
    "        x=train_ds,\n",
    "        epochs=1500,\n",
    "        validation_data=val_ds,\n",
    "        callbacks=[reduce_lr, tensorboard_callback, early_stopping_callback, checkpoint_callback]\n",
    "    )\n"
   ]
  },
  {
   "cell_type": "code",
   "execution_count": 29,
   "id": "59b9706b",
   "metadata": {
    "execution": {
     "iopub.execute_input": "2024-07-22T06:25:28.616683Z",
     "iopub.status.busy": "2024-07-22T06:25:28.616294Z",
     "iopub.status.idle": "2024-07-22T06:25:33.533726Z",
     "shell.execute_reply": "2024-07-22T06:25:33.532661Z"
    },
    "id": "Hev0hMCxOtfy",
    "papermill": {
     "duration": 5.827768,
     "end_time": "2024-07-22T06:25:33.535908",
     "exception": false,
     "start_time": "2024-07-22T06:25:27.708140",
     "status": "completed"
    },
    "tags": []
   },
   "outputs": [
    {
     "name": "stdout",
     "output_type": "stream",
     "text": [
      "\u001b[1m12/12\u001b[0m \u001b[32m━━━━━━━━━━━━━━━━━━━━\u001b[0m\u001b[37m\u001b[0m \u001b[1m5s\u001b[0m 235ms/step - accuracy: 0.1977 - loss: 2.4503\n"
     ]
    },
    {
     "data": {
      "text/plain": [
       "{'accuracy': 0.17894737422466278, 'loss': 2.499589681625366}"
      ]
     },
     "execution_count": 29,
     "metadata": {},
     "output_type": "execute_result"
    }
   ],
   "source": [
    "model.evaluate(test_ds, return_dict=True)"
   ]
  },
  {
   "cell_type": "markdown",
   "id": "50118eb3",
   "metadata": {
    "id": "-F73GxD1-yc8",
    "papermill": {
     "duration": 0.999097,
     "end_time": "2024-07-22T06:25:35.433932",
     "exception": false,
     "start_time": "2024-07-22T06:25:34.434835",
     "status": "completed"
    },
    "tags": []
   },
   "source": [
    "To visualize model performance further, use a [confusion matrix](https://www.tensorflow.org/api_docs/python/tf/math/confusion_matrix). The confusion matrix allows you to assess the performance of the classification model beyond accuracy. In order to build the confusion matrix for this multi-class classification problem, get the actual values in the test set and the predicted values."
   ]
  },
  {
   "cell_type": "markdown",
   "id": "fd340304",
   "metadata": {
    "id": "d4WsP4Z2HZ6L",
    "papermill": {
     "duration": 0.959575,
     "end_time": "2024-07-22T06:25:37.294617",
     "exception": false,
     "start_time": "2024-07-22T06:25:36.335042",
     "status": "completed"
    },
    "tags": []
   },
   "source": [
    "## Next steps\n",
    "\n",
    "To learn more about working with video data in TensorFlow, check out the following tutorials:\n",
    "\n",
    "* [Load video data](https://www.tensorflow.org/tutorials/load_data/video)\n",
    "* [MoViNet for streaming action recognition](https://www.tensorflow.org/hub/tutorials/movinet)\n",
    "* [Transfer learning for video classification with MoViNet](https://www.tensorflow.org/tutorials/video/transfer_learning_with_movinet)"
   ]
  }
 ],
 "metadata": {
  "accelerator": "GPU",
  "colab": {
   "gpuType": "T4",
   "machine_shape": "hm",
   "provenance": [
    {
     "file_id": "1encUGu7sgKpbQrB-q7EjQvOh4ptZKP71",
     "timestamp": 1719786709432
    },
    {
     "file_id": "https://github.com/tensorflow/docs/blob/master/site/en/tutorials/video/video_classification.ipynb",
     "timestamp": 1711477705505
    }
   ]
  },
  "kaggle": {
   "accelerator": "nvidiaTeslaT4",
   "dataSources": [],
   "dockerImageVersionId": 30747,
   "isGpuEnabled": true,
   "isInternetEnabled": true,
   "language": "python",
   "sourceType": "notebook"
  },
  "kernelspec": {
   "display_name": "Python 3",
   "language": "python",
   "name": "python3"
  },
  "language_info": {
   "codemirror_mode": {
    "name": "ipython",
    "version": 3
   },
   "file_extension": ".py",
   "mimetype": "text/x-python",
   "name": "python",
   "nbconvert_exporter": "python",
   "pygments_lexer": "ipython3",
   "version": "3.10.13"
  },
  "papermill": {
   "default_parameters": {},
   "duration": 4788.739581,
   "end_time": "2024-07-22T06:25:41.020369",
   "environment_variables": {},
   "exception": null,
   "input_path": "__notebook__.ipynb",
   "output_path": "__notebook__.ipynb",
   "parameters": {},
   "start_time": "2024-07-22T05:05:52.280788",
   "version": "2.5.0"
  }
 },
 "nbformat": 4,
 "nbformat_minor": 5
}
